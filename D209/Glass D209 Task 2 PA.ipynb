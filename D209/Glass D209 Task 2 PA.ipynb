{
 "cells": [
  {
   "cell_type": "code",
   "execution_count": 2,
   "id": "bc860dcb-00d1-402b-8903-4fbc705f222a",
   "metadata": {},
   "outputs": [
    {
     "name": "stdout",
     "output_type": "stream",
     "text": [
      "<class 'pandas.core.frame.DataFrame'>\n",
      "RangeIndex: 10000 entries, 0 to 9999\n",
      "Data columns (total 50 columns):\n",
      " #   Column              Non-Null Count  Dtype  \n",
      "---  ------              --------------  -----  \n",
      " 0   CaseOrder           10000 non-null  int64  \n",
      " 1   Customer_id         10000 non-null  object \n",
      " 2   Interaction         10000 non-null  object \n",
      " 3   UID                 10000 non-null  object \n",
      " 4   City                10000 non-null  object \n",
      " 5   State               10000 non-null  object \n",
      " 6   County              10000 non-null  object \n",
      " 7   Zip                 10000 non-null  int64  \n",
      " 8   Lat                 10000 non-null  float64\n",
      " 9   Lng                 10000 non-null  float64\n",
      " 10  Population          10000 non-null  int64  \n",
      " 11  Area                10000 non-null  object \n",
      " 12  TimeZone            10000 non-null  object \n",
      " 13  Job                 10000 non-null  object \n",
      " 14  Children            10000 non-null  int64  \n",
      " 15  Age                 10000 non-null  int64  \n",
      " 16  Income              10000 non-null  float64\n",
      " 17  Marital             10000 non-null  object \n",
      " 18  Gender              10000 non-null  object \n",
      " 19  ReAdmis             10000 non-null  object \n",
      " 20  VitD_levels         10000 non-null  float64\n",
      " 21  Doc_visits          10000 non-null  int64  \n",
      " 22  Full_meals_eaten    10000 non-null  int64  \n",
      " 23  vitD_supp           10000 non-null  int64  \n",
      " 24  Soft_drink          10000 non-null  object \n",
      " 25  Initial_admin       10000 non-null  object \n",
      " 26  HighBlood           10000 non-null  object \n",
      " 27  Stroke              10000 non-null  object \n",
      " 28  Complication_risk   10000 non-null  object \n",
      " 29  Overweight          10000 non-null  object \n",
      " 30  Arthritis           10000 non-null  object \n",
      " 31  Diabetes            10000 non-null  object \n",
      " 32  Hyperlipidemia      10000 non-null  object \n",
      " 33  BackPain            10000 non-null  object \n",
      " 34  Anxiety             10000 non-null  object \n",
      " 35  Allergic_rhinitis   10000 non-null  object \n",
      " 36  Reflux_esophagitis  10000 non-null  object \n",
      " 37  Asthma              10000 non-null  object \n",
      " 38  Services            10000 non-null  object \n",
      " 39  Initial_days        10000 non-null  float64\n",
      " 40  TotalCharge         10000 non-null  float64\n",
      " 41  Additional_charges  10000 non-null  float64\n",
      " 42  Item1               10000 non-null  int64  \n",
      " 43  Item2               10000 non-null  int64  \n",
      " 44  Item3               10000 non-null  int64  \n",
      " 45  Item4               10000 non-null  int64  \n",
      " 46  Item5               10000 non-null  int64  \n",
      " 47  Item6               10000 non-null  int64  \n",
      " 48  Item7               10000 non-null  int64  \n",
      " 49  Item8               10000 non-null  int64  \n",
      "dtypes: float64(7), int64(16), object(27)\n",
      "memory usage: 3.8+ MB\n"
     ]
    }
   ],
   "source": [
    "#import pandas for reading and handling of data\n",
    "\n",
    "import pandas as pd\n",
    "\n",
    "filename = 'medical_clean.csv'\n",
    "mrd = pd.read_csv(filename)\n",
    "mrd.info()"
   ]
  },
  {
   "cell_type": "code",
   "execution_count": 3,
   "id": "aa44eceb-b7ff-49bb-99a2-b5a8975427a2",
   "metadata": {},
   "outputs": [
    {
     "name": "stdout",
     "output_type": "stream",
     "text": [
      "<class 'pandas.core.frame.DataFrame'>\n",
      "RangeIndex: 10000 entries, 0 to 9999\n",
      "Data columns (total 21 columns):\n",
      " #   Column              Non-Null Count  Dtype  \n",
      "---  ------              --------------  -----  \n",
      " 0   Age                 10000 non-null  int64  \n",
      " 1   Income              10000 non-null  float64\n",
      " 2   Gender              10000 non-null  object \n",
      " 3   ReAdmis             10000 non-null  object \n",
      " 4   VitD_levels         10000 non-null  float64\n",
      " 5   Doc_visits          10000 non-null  int64  \n",
      " 6   HighBlood           10000 non-null  object \n",
      " 7   Stroke              10000 non-null  object \n",
      " 8   Complication_risk   10000 non-null  object \n",
      " 9   Overweight          10000 non-null  object \n",
      " 10  Arthritis           10000 non-null  object \n",
      " 11  Diabetes            10000 non-null  object \n",
      " 12  Hyperlipidemia      10000 non-null  object \n",
      " 13  BackPain            10000 non-null  object \n",
      " 14  Anxiety             10000 non-null  object \n",
      " 15  Allergic_rhinitis   10000 non-null  object \n",
      " 16  Reflux_esophagitis  10000 non-null  object \n",
      " 17  Asthma              10000 non-null  object \n",
      " 18  Services            10000 non-null  object \n",
      " 19  Initial_days        10000 non-null  float64\n",
      " 20  TotalCharge         10000 non-null  float64\n",
      "dtypes: float64(4), int64(2), object(15)\n",
      "memory usage: 1.6+ MB\n"
     ]
    }
   ],
   "source": [
    "#drop columns that are not relevent to our task\n",
    "#get info for our remaining columns\n",
    "\n",
    "mrd_clean = mrd.drop(['CaseOrder', 'Customer_id', 'Interaction', 'UID', 'City', 'State', 'County', 'Zip', 'Lat', 'Lng', 'Population', 'Area',\n",
    "                      'TimeZone', 'Job', 'Children', 'Marital', 'Full_meals_eaten', 'vitD_supp', 'Soft_drink', 'Initial_admin',\n",
    "                      'Additional_charges', 'Item1', 'Item2', 'Item3', 'Item4', 'Item5', 'Item6', 'Item7', 'Item8'], axis = 1)\n",
    "mrd_clean.info()"
   ]
  },
  {
   "cell_type": "code",
   "execution_count": 4,
   "id": "b76ad69a-b366-49db-823c-e36053246839",
   "metadata": {},
   "outputs": [
    {
     "data": {
      "text/plain": [
       "Age                   0\n",
       "Income                0\n",
       "Gender                0\n",
       "ReAdmis               0\n",
       "VitD_levels           0\n",
       "Doc_visits            0\n",
       "HighBlood             0\n",
       "Stroke                0\n",
       "Complication_risk     0\n",
       "Overweight            0\n",
       "Arthritis             0\n",
       "Diabetes              0\n",
       "Hyperlipidemia        0\n",
       "BackPain              0\n",
       "Anxiety               0\n",
       "Allergic_rhinitis     0\n",
       "Reflux_esophagitis    0\n",
       "Asthma                0\n",
       "Services              0\n",
       "Initial_days          0\n",
       "TotalCharge           0\n",
       "dtype: int64"
      ]
     },
     "execution_count": 4,
     "metadata": {},
     "output_type": "execute_result"
    }
   ],
   "source": [
    "#check data for missing values\n",
    "\n",
    "mrd_clean.isnull().sum()"
   ]
  },
  {
   "cell_type": "code",
   "execution_count": 5,
   "id": "c76f6c27-4d2b-45a8-97cf-e8b748b558dd",
   "metadata": {},
   "outputs": [
    {
     "data": {
      "text/plain": [
       "0"
      ]
     },
     "execution_count": 5,
     "metadata": {},
     "output_type": "execute_result"
    }
   ],
   "source": [
    "#import stats to check for outliers\n",
    "#import seaborn to visualize outliers\n",
    "#start with variable Age and repeat process for continuous variables\n",
    "\n",
    "from scipy import stats\n",
    "import seaborn as sb\n",
    "\n",
    "mrd_clean['zscore_age'] = stats.zscore(mrd_clean['Age'])\n",
    "sum((mrd_clean.zscore_age < -3) | (mrd_clean.zscore_age > 3))"
   ]
  },
  {
   "cell_type": "code",
   "execution_count": 6,
   "id": "a938740b-6ebc-4ba5-b82c-e5a70c4b7952",
   "metadata": {},
   "outputs": [
    {
     "data": {
      "text/plain": [
       "143"
      ]
     },
     "execution_count": 6,
     "metadata": {},
     "output_type": "execute_result"
    }
   ],
   "source": [
    "mrd_clean['zscore_income'] = stats.zscore(mrd_clean['Income'])\n",
    "sum((mrd_clean.zscore_income < -3) | (mrd_clean.zscore_income > 3))"
   ]
  },
  {
   "cell_type": "code",
   "execution_count": 7,
   "id": "c397a702-5bf8-4336-ab45-eefdb8548573",
   "metadata": {},
   "outputs": [
    {
     "data": {
      "image/png": "[encoded data removed]",
      "text/plain": [
       "<Figure size 640x480 with 1 Axes>"
      ]
     },
     "metadata": {},
     "output_type": "display_data"
    }
   ],
   "source": [
    "out = sb.boxplot(x = 'Income', data = mrd_clean)"
   ]
  },
  {
   "cell_type": "code",
   "execution_count": 8,
   "id": "113fde65-455a-4bd7-bff5-a2671cadf895",
   "metadata": {},
   "outputs": [
    {
     "data": {
      "text/plain": [
       "24"
      ]
     },
     "execution_count": 8,
     "metadata": {},
     "output_type": "execute_result"
    }
   ],
   "source": [
    "mrd_clean['zscore_vitd_levels'] = stats.zscore(mrd_clean['VitD_levels'])\n",
    "sum((mrd_clean.zscore_vitd_levels < -3) | (mrd_clean.zscore_vitd_levels > 3))"
   ]
  },
  {
   "cell_type": "code",
   "execution_count": 9,
   "id": "de88d410-dffc-4945-8d78-83a48dcc63c9",
   "metadata": {},
   "outputs": [
    {
     "data": {
      "image/png": "[encoded data removed]",
      "text/plain": [
       "<Figure size 640x480 with 1 Axes>"
      ]
     },
     "metadata": {},
     "output_type": "display_data"
    }
   ],
   "source": [
    "out = sb.boxplot(x = 'VitD_levels', data = mrd_clean)"
   ]
  },
  {
   "cell_type": "code",
   "execution_count": 10,
   "id": "e94ef444-fdba-45da-91ea-e8d7f6a8dc3d",
   "metadata": {},
   "outputs": [
    {
     "data": {
      "text/plain": [
       "8"
      ]
     },
     "execution_count": 10,
     "metadata": {},
     "output_type": "execute_result"
    }
   ],
   "source": [
    "mrd_clean['zscore_doc_visits'] = stats.zscore(mrd_clean['Doc_visits'])\n",
    "sum((mrd_clean.zscore_doc_visits < -3) | (mrd_clean.zscore_doc_visits > 3))"
   ]
  },
  {
   "cell_type": "code",
   "execution_count": 11,
   "id": "06a65de2-7e33-4588-9d94-8f97f12b72bd",
   "metadata": {},
   "outputs": [
    {
     "data": {
      "image/png": "[encoded data removed]",
      "text/plain": [
       "<Figure size 640x480 with 1 Axes>"
      ]
     },
     "metadata": {},
     "output_type": "display_data"
    }
   ],
   "source": [
    "out = sb.boxplot(x = 'Doc_visits', data = mrd_clean)"
   ]
  },
  {
   "cell_type": "code",
   "execution_count": 12,
   "id": "79df7dee-79de-43ce-9c7d-01e0c715a739",
   "metadata": {},
   "outputs": [
    {
     "data": {
      "text/plain": [
       "0"
      ]
     },
     "execution_count": 12,
     "metadata": {},
     "output_type": "execute_result"
    }
   ],
   "source": [
    "mrd_clean['zscore_initial_days'] = stats.zscore(mrd_clean['Initial_days'])\n",
    "sum((mrd_clean.zscore_initial_days < -3) | (mrd_clean.zscore_initial_days > 3))"
   ]
  },
  {
   "cell_type": "code",
   "execution_count": 13,
   "id": "3cf0c7b7-8232-42da-8530-cd16b6b0642d",
   "metadata": {},
   "outputs": [
    {
     "name": "stdout",
     "output_type": "stream",
     "text": [
      "<class 'pandas.core.frame.DataFrame'>\n",
      "RangeIndex: 10000 entries, 0 to 9999\n",
      "Data columns (total 21 columns):\n",
      " #   Column              Non-Null Count  Dtype  \n",
      "---  ------              --------------  -----  \n",
      " 0   Age                 10000 non-null  int64  \n",
      " 1   Income              10000 non-null  float64\n",
      " 2   Gender              10000 non-null  object \n",
      " 3   ReAdmis             10000 non-null  object \n",
      " 4   VitD_levels         10000 non-null  float64\n",
      " 5   Doc_visits          10000 non-null  int64  \n",
      " 6   HighBlood           10000 non-null  object \n",
      " 7   Stroke              10000 non-null  object \n",
      " 8   Complication_risk   10000 non-null  object \n",
      " 9   Overweight          10000 non-null  object \n",
      " 10  Arthritis           10000 non-null  object \n",
      " 11  Diabetes            10000 non-null  object \n",
      " 12  Hyperlipidemia      10000 non-null  object \n",
      " 13  BackPain            10000 non-null  object \n",
      " 14  Anxiety             10000 non-null  object \n",
      " 15  Allergic_rhinitis   10000 non-null  object \n",
      " 16  Reflux_esophagitis  10000 non-null  object \n",
      " 17  Asthma              10000 non-null  object \n",
      " 18  Services            10000 non-null  object \n",
      " 19  Initial_days        10000 non-null  float64\n",
      " 20  TotalCharge         10000 non-null  float64\n",
      "dtypes: float64(4), int64(2), object(15)\n",
      "memory usage: 1.6+ MB\n"
     ]
    }
   ],
   "source": [
    "#as these outliers are 'expected', they are retained\n",
    "#drop columns created during the process\n",
    "#make sure only the columns we are interested in are present\n",
    "\n",
    "mrd_clean = mrd_clean.drop(['zscore_age', 'zscore_income', 'zscore_vitd_levels', 'zscore_doc_visits', 'zscore_initial_days'],\n",
    "                          axis = 1)\n",
    "mrd_clean.info()"
   ]
  },
  {
   "cell_type": "code",
   "execution_count": 14,
   "id": "57229331-129b-47bd-936a-e0796487ab61",
   "metadata": {},
   "outputs": [
    {
     "name": "stdout",
     "output_type": "stream",
     "text": [
      "<class 'pandas.core.frame.DataFrame'>\n",
      "RangeIndex: 10000 entries, 0 to 9999\n",
      "Data columns (total 21 columns):\n",
      " #   Column              Non-Null Count  Dtype  \n",
      "---  ------              --------------  -----  \n",
      " 0   Age                 10000 non-null  int64  \n",
      " 1   Income              10000 non-null  float64\n",
      " 2   Gender              10000 non-null  object \n",
      " 3   ReAdmis             10000 non-null  int64  \n",
      " 4   VitD_levels         10000 non-null  float64\n",
      " 5   Doc_visits          10000 non-null  int64  \n",
      " 6   HighBlood           10000 non-null  int64  \n",
      " 7   Stroke              10000 non-null  int64  \n",
      " 8   Complication_risk   10000 non-null  object \n",
      " 9   Overweight          10000 non-null  int64  \n",
      " 10  Arthritis           10000 non-null  int64  \n",
      " 11  Diabetes            10000 non-null  int64  \n",
      " 12  Hyperlipidemia      10000 non-null  int64  \n",
      " 13  BackPain            10000 non-null  int64  \n",
      " 14  Anxiety             10000 non-null  int64  \n",
      " 15  Allergic_rhinitis   10000 non-null  int64  \n",
      " 16  Reflux_esophagitis  10000 non-null  int64  \n",
      " 17  Asthma              10000 non-null  int64  \n",
      " 18  Services            10000 non-null  object \n",
      " 19  Initial_days        10000 non-null  float64\n",
      " 20  TotalCharge         10000 non-null  float64\n",
      "dtypes: float64(4), int64(14), object(3)\n",
      "memory usage: 1.6+ MB\n"
     ]
    },
    {
     "name": "stderr",
     "output_type": "stream",
     "text": [
      "/var/folders/_y/fjx1srl932v_lwvdp98jq5dr0000gn/T/ipykernel_10627/985021027.py:8: FutureWarning: Downcasting behavior in `replace` is deprecated and will be removed in a future version. To retain the old behavior, explicitly call `result.infer_objects(copy=False)`. To opt-in to the future behavior, set `pd.set_option('future.no_silent_downcasting', True)`\n",
      "  mrd_clean[col] = mrd_clean[col].replace(bin_encoding)\n"
     ]
    }
   ],
   "source": [
    "#identify categorical variables we need to encode\n",
    "#map yes values to 1 and no values to 0 for our model\n",
    "\n",
    "yesno_cols = ['ReAdmis', 'HighBlood', 'Stroke', 'Overweight', 'Arthritis', 'Diabetes', 'Hyperlipidemia', 'BackPain', 'Anxiety',\n",
    "              'Allergic_rhinitis', 'Reflux_esophagitis', 'Asthma']\n",
    "bin_encoding = {'Yes':1, 'No':0}\n",
    "for col in yesno_cols:\n",
    "    mrd_clean[col] = mrd_clean[col].replace(bin_encoding)\n",
    "mrd_clean.info()"
   ]
  },
  {
   "cell_type": "code",
   "execution_count": 15,
   "id": "7f0dfd4a-28a7-4fc8-90cb-eee41bc209de",
   "metadata": {},
   "outputs": [
    {
     "name": "stdout",
     "output_type": "stream",
     "text": [
      "0       0\n",
      "1       0\n",
      "2       0\n",
      "3       0\n",
      "4       0\n",
      "       ..\n",
      "9995    0\n",
      "9996    1\n",
      "9997    1\n",
      "9998    1\n",
      "9999    1\n",
      "Name: ReAdmis, Length: 10000, dtype: int64\n"
     ]
    }
   ],
   "source": [
    "#check to make sure values were correctly replaced using a categorical variable\n",
    "\n",
    "print(mrd_clean['ReAdmis'])"
   ]
  },
  {
   "cell_type": "code",
   "execution_count": 16,
   "id": "b2f0c6a0-502b-44a6-9d82-56b53e378447",
   "metadata": {},
   "outputs": [
    {
     "name": "stdout",
     "output_type": "stream",
     "text": [
      "0       2\n",
      "1       3\n",
      "2       2\n",
      "3       2\n",
      "4       1\n",
      "       ..\n",
      "9995    2\n",
      "9996    2\n",
      "9997    3\n",
      "9998    2\n",
      "9999    1\n",
      "Name: Complication_risk, Length: 10000, dtype: int64\n"
     ]
    }
   ],
   "source": [
    "#need to map variables Complication_risk since it contains non_numerical values that are not yes/no\n",
    "\n",
    "comp_risk_map = {'High': 3, 'Medium': 2, 'Low': 1}\n",
    "mrd_clean['Complication_risk'] = mrd_clean['Complication_risk'].map(comp_risk_map)\n",
    "mrd_clean['Complication_risk'] = mrd_clean['Complication_risk'].astype(int)\n",
    "print(mrd_clean['Complication_risk'])"
   ]
  },
  {
   "cell_type": "code",
   "execution_count": 17,
   "id": "e829ca67-0ebe-4774-aa45-313fdd8eac20",
   "metadata": {},
   "outputs": [
    {
     "name": "stdout",
     "output_type": "stream",
     "text": [
      "Age                     int64\n",
      "Income                float64\n",
      "Gender                 object\n",
      "ReAdmis                 int64\n",
      "VitD_levels           float64\n",
      "Doc_visits              int64\n",
      "HighBlood               int64\n",
      "Stroke                  int64\n",
      "Complication_risk       int64\n",
      "Overweight              int64\n",
      "Arthritis               int64\n",
      "Diabetes                int64\n",
      "Hyperlipidemia          int64\n",
      "BackPain                int64\n",
      "Anxiety                 int64\n",
      "Allergic_rhinitis       int64\n",
      "Reflux_esophagitis      int64\n",
      "Asthma                  int64\n",
      "Services               object\n",
      "Initial_days          float64\n",
      "TotalCharge           float64\n",
      "dtype: object\n"
     ]
    }
   ],
   "source": [
    "#check column types to identify which still need one hot encoding\n",
    "\n",
    "print(mrd_clean.dtypes)"
   ]
  },
  {
   "cell_type": "code",
   "execution_count": 18,
   "id": "49d01bdf-319e-457b-8ded-e35bf7ff350e",
   "metadata": {},
   "outputs": [
    {
     "data": {
      "text/html": [
       "<div>\n",
       "<style scoped>\n",
       "    .dataframe tbody tr th:only-of-type {\n",
       "        vertical-align: middle;\n",
       "    }\n",
       "\n",
       "    .dataframe tbody tr th {\n",
       "        vertical-align: top;\n",
       "    }\n",
       "\n",
       "    .dataframe thead th {\n",
       "        text-align: right;\n",
       "    }\n",
       "</style>\n",
       "<table border=\"1\" class=\"dataframe\">\n",
       "  <thead>\n",
       "    <tr style=\"text-align: right;\">\n",
       "      <th></th>\n",
       "      <th>Age</th>\n",
       "      <th>Income</th>\n",
       "      <th>ReAdmis</th>\n",
       "      <th>VitD_levels</th>\n",
       "      <th>Doc_visits</th>\n",
       "      <th>HighBlood</th>\n",
       "      <th>Stroke</th>\n",
       "      <th>Complication_risk</th>\n",
       "      <th>Overweight</th>\n",
       "      <th>Arthritis</th>\n",
       "      <th>...</th>\n",
       "      <th>Asthma</th>\n",
       "      <th>Initial_days</th>\n",
       "      <th>TotalCharge</th>\n",
       "      <th>Gender_Female</th>\n",
       "      <th>Gender_Male</th>\n",
       "      <th>Gender_Nonbinary</th>\n",
       "      <th>Services_Blood Work</th>\n",
       "      <th>Services_CT Scan</th>\n",
       "      <th>Services_Intravenous</th>\n",
       "      <th>Services_MRI</th>\n",
       "    </tr>\n",
       "  </thead>\n",
       "  <tbody>\n",
       "    <tr>\n",
       "      <th>0</th>\n",
       "      <td>53</td>\n",
       "      <td>86575</td>\n",
       "      <td>0</td>\n",
       "      <td>19</td>\n",
       "      <td>6</td>\n",
       "      <td>1</td>\n",
       "      <td>0</td>\n",
       "      <td>2</td>\n",
       "      <td>0</td>\n",
       "      <td>1</td>\n",
       "      <td>...</td>\n",
       "      <td>1</td>\n",
       "      <td>10</td>\n",
       "      <td>3726</td>\n",
       "      <td>0</td>\n",
       "      <td>1</td>\n",
       "      <td>0</td>\n",
       "      <td>1</td>\n",
       "      <td>0</td>\n",
       "      <td>0</td>\n",
       "      <td>0</td>\n",
       "    </tr>\n",
       "    <tr>\n",
       "      <th>1</th>\n",
       "      <td>51</td>\n",
       "      <td>46805</td>\n",
       "      <td>0</td>\n",
       "      <td>18</td>\n",
       "      <td>4</td>\n",
       "      <td>1</td>\n",
       "      <td>0</td>\n",
       "      <td>3</td>\n",
       "      <td>1</td>\n",
       "      <td>0</td>\n",
       "      <td>...</td>\n",
       "      <td>0</td>\n",
       "      <td>15</td>\n",
       "      <td>4193</td>\n",
       "      <td>1</td>\n",
       "      <td>0</td>\n",
       "      <td>0</td>\n",
       "      <td>0</td>\n",
       "      <td>0</td>\n",
       "      <td>1</td>\n",
       "      <td>0</td>\n",
       "    </tr>\n",
       "    <tr>\n",
       "      <th>2</th>\n",
       "      <td>53</td>\n",
       "      <td>14370</td>\n",
       "      <td>0</td>\n",
       "      <td>18</td>\n",
       "      <td>4</td>\n",
       "      <td>1</td>\n",
       "      <td>0</td>\n",
       "      <td>2</td>\n",
       "      <td>1</td>\n",
       "      <td>0</td>\n",
       "      <td>...</td>\n",
       "      <td>0</td>\n",
       "      <td>4</td>\n",
       "      <td>2434</td>\n",
       "      <td>1</td>\n",
       "      <td>0</td>\n",
       "      <td>0</td>\n",
       "      <td>1</td>\n",
       "      <td>0</td>\n",
       "      <td>0</td>\n",
       "      <td>0</td>\n",
       "    </tr>\n",
       "    <tr>\n",
       "      <th>3</th>\n",
       "      <td>78</td>\n",
       "      <td>39741</td>\n",
       "      <td>0</td>\n",
       "      <td>16</td>\n",
       "      <td>4</td>\n",
       "      <td>0</td>\n",
       "      <td>1</td>\n",
       "      <td>2</td>\n",
       "      <td>0</td>\n",
       "      <td>1</td>\n",
       "      <td>...</td>\n",
       "      <td>1</td>\n",
       "      <td>1</td>\n",
       "      <td>2127</td>\n",
       "      <td>0</td>\n",
       "      <td>1</td>\n",
       "      <td>0</td>\n",
       "      <td>1</td>\n",
       "      <td>0</td>\n",
       "      <td>0</td>\n",
       "      <td>0</td>\n",
       "    </tr>\n",
       "    <tr>\n",
       "      <th>4</th>\n",
       "      <td>22</td>\n",
       "      <td>1209</td>\n",
       "      <td>0</td>\n",
       "      <td>17</td>\n",
       "      <td>5</td>\n",
       "      <td>0</td>\n",
       "      <td>0</td>\n",
       "      <td>1</td>\n",
       "      <td>0</td>\n",
       "      <td>0</td>\n",
       "      <td>...</td>\n",
       "      <td>0</td>\n",
       "      <td>1</td>\n",
       "      <td>2113</td>\n",
       "      <td>1</td>\n",
       "      <td>0</td>\n",
       "      <td>0</td>\n",
       "      <td>0</td>\n",
       "      <td>1</td>\n",
       "      <td>0</td>\n",
       "      <td>0</td>\n",
       "    </tr>\n",
       "  </tbody>\n",
       "</table>\n",
       "<p>5 rows × 26 columns</p>\n",
       "</div>"
      ],
      "text/plain": [
       "   Age  Income  ReAdmis  VitD_levels  Doc_visits  HighBlood  Stroke  \\\n",
       "0   53   86575        0           19           6          1       0   \n",
       "1   51   46805        0           18           4          1       0   \n",
       "2   53   14370        0           18           4          1       0   \n",
       "3   78   39741        0           16           4          0       1   \n",
       "4   22    1209        0           17           5          0       0   \n",
       "\n",
       "   Complication_risk  Overweight  Arthritis  ...  Asthma  Initial_days  \\\n",
       "0                  2           0          1  ...       1            10   \n",
       "1                  3           1          0  ...       0            15   \n",
       "2                  2           1          0  ...       0             4   \n",
       "3                  2           0          1  ...       1             1   \n",
       "4                  1           0          0  ...       0             1   \n",
       "\n",
       "   TotalCharge  Gender_Female  Gender_Male  Gender_Nonbinary  \\\n",
       "0         3726              0            1                 0   \n",
       "1         4193              1            0                 0   \n",
       "2         2434              1            0                 0   \n",
       "3         2127              0            1                 0   \n",
       "4         2113              1            0                 0   \n",
       "\n",
       "   Services_Blood Work  Services_CT Scan  Services_Intravenous  Services_MRI  \n",
       "0                    1                 0                     0             0  \n",
       "1                    0                 0                     1             0  \n",
       "2                    1                 0                     0             0  \n",
       "3                    1                 0                     0             0  \n",
       "4                    0                 1                     0             0  \n",
       "\n",
       "[5 rows x 26 columns]"
      ]
     },
     "execution_count": 18,
     "metadata": {},
     "output_type": "execute_result"
    }
   ],
   "source": [
    "#2 columns still need to be re-expressed with one hot encoding\n",
    "#use get_dummies to complete this process\n",
    "#creates new columns for each value - 1 indicates the value is present and 0 to indicate it is not\n",
    "#change type of these columns to integer\n",
    "#use .head() function to make sure the data looks the way it should\n",
    "\n",
    "cat_cols = ['Gender', 'Services']\n",
    "mrd_clean = pd.get_dummies(mrd_clean, columns = cat_cols, drop_first = False)\n",
    "mrd_clean = mrd_clean.astype(int)\n",
    "mrd_clean.head()"
   ]
  },
  {
   "cell_type": "code",
   "execution_count": 19,
   "id": "d64fd99b-a6fd-4d22-ad23-6cd912d7154a",
   "metadata": {},
   "outputs": [
    {
     "name": "stdout",
     "output_type": "stream",
     "text": [
      "<class 'pandas.core.frame.DataFrame'>\n",
      "RangeIndex: 10000 entries, 0 to 9999\n",
      "Data columns (total 26 columns):\n",
      " #   Column                Non-Null Count  Dtype\n",
      "---  ------                --------------  -----\n",
      " 0   Age                   10000 non-null  int64\n",
      " 1   Income                10000 non-null  int64\n",
      " 2   ReAdmis               10000 non-null  int64\n",
      " 3   VitD_levels           10000 non-null  int64\n",
      " 4   Doc_visits            10000 non-null  int64\n",
      " 5   HighBlood             10000 non-null  int64\n",
      " 6   Stroke                10000 non-null  int64\n",
      " 7   Complication_risk     10000 non-null  int64\n",
      " 8   Overweight            10000 non-null  int64\n",
      " 9   Arthritis             10000 non-null  int64\n",
      " 10  Diabetes              10000 non-null  int64\n",
      " 11  Hyperlipidemia        10000 non-null  int64\n",
      " 12  BackPain              10000 non-null  int64\n",
      " 13  Anxiety               10000 non-null  int64\n",
      " 14  Allergic_rhinitis     10000 non-null  int64\n",
      " 15  Reflux_esophagitis    10000 non-null  int64\n",
      " 16  Asthma                10000 non-null  int64\n",
      " 17  Initial_days          10000 non-null  int64\n",
      " 18  TotalCharge           10000 non-null  int64\n",
      " 19  Gender_Female         10000 non-null  int64\n",
      " 20  Gender_Male           10000 non-null  int64\n",
      " 21  Gender_Nonbinary      10000 non-null  int64\n",
      " 22  Services_Blood Work   10000 non-null  int64\n",
      " 23  Services_CT Scan      10000 non-null  int64\n",
      " 24  Services_Intravenous  10000 non-null  int64\n",
      " 25  Services_MRI          10000 non-null  int64\n",
      "dtypes: int64(26)\n",
      "memory usage: 2.0 MB\n"
     ]
    }
   ],
   "source": [
    "#as stated above, new columns were created during one hot encoding\n",
    "#verify we have these new columns for our model\n",
    "\n",
    "mrd_clean.info()"
   ]
  },
  {
   "cell_type": "code",
   "execution_count": 20,
   "id": "1f67dded-ea8a-46c1-9ab1-3a5119fe75cb",
   "metadata": {},
   "outputs": [],
   "source": [
    "#we can see that Gender and Services now have their own columns\n",
    "#now that all variables are encoded properly, continuous variables need to be scaled\n",
    "#import StandardScaler for this process\n",
    "\n",
    "from sklearn.preprocessing import StandardScaler\n",
    "\n",
    "cont_cols = ['Age', 'Income', 'VitD_levels', 'Doc_visits', 'Initial_days']\n",
    "scaler = StandardScaler()\n",
    "mrd_clean[cont_cols] = scaler.fit_transform(mrd_clean[cont_cols])"
   ]
  },
  {
   "cell_type": "code",
   "execution_count": 21,
   "id": "a979e3b1-44ae-42c5-bbdd-6da26415f091",
   "metadata": {},
   "outputs": [
    {
     "name": "stdout",
     "output_type": "stream",
     "text": [
      "<class 'pandas.core.frame.DataFrame'>\n",
      "RangeIndex: 10000 entries, 0 to 9999\n",
      "Data columns (total 26 columns):\n",
      " #   Column              Non-Null Count  Dtype  \n",
      "---  ------              --------------  -----  \n",
      " 0   age                 10000 non-null  float64\n",
      " 1   income              10000 non-null  float64\n",
      " 2   readmis             10000 non-null  int64  \n",
      " 3   vitd_levels         10000 non-null  float64\n",
      " 4   doc_visits          10000 non-null  float64\n",
      " 5   high_blood          10000 non-null  int64  \n",
      " 6   stroke              10000 non-null  int64  \n",
      " 7   comp_risk           10000 non-null  int64  \n",
      " 8   overweight          10000 non-null  int64  \n",
      " 9   arthritis           10000 non-null  int64  \n",
      " 10  diabetes            10000 non-null  int64  \n",
      " 11  hyperlipidemia      10000 non-null  int64  \n",
      " 12  backpain            10000 non-null  int64  \n",
      " 13  anxiety             10000 non-null  int64  \n",
      " 14  allergic_rhinitis   10000 non-null  int64  \n",
      " 15  reflux_esophagitis  10000 non-null  int64  \n",
      " 16  asthma              10000 non-null  int64  \n",
      " 17  initial_days        10000 non-null  float64\n",
      " 18  total_charge        10000 non-null  int64  \n",
      " 19  gender_f            10000 non-null  int64  \n",
      " 20  gender_m            10000 non-null  int64  \n",
      " 21  gender_n            10000 non-null  int64  \n",
      " 22  services_bw         10000 non-null  int64  \n",
      " 23  services_ct         10000 non-null  int64  \n",
      " 24  services_i          10000 non-null  int64  \n",
      " 25  services_mri        10000 non-null  int64  \n",
      "dtypes: float64(5), int64(21)\n",
      "memory usage: 2.0 MB\n"
     ]
    }
   ],
   "source": [
    "#now rename the columns for ease of use and better readability\n",
    "#verify we have all variables we want with new name\n",
    "\n",
    "pythonic_cols = ['age', 'income', 'readmis', 'vitd_levels', 'doc_visits', 'high_blood', 'stroke', 'comp_risk', 'overweight',\n",
    "                 'arthritis', 'diabetes', 'hyperlipidemia', 'backpain', 'anxiety', 'allergic_rhinitis', 'reflux_esophagitis',\n",
    "                 'asthma', 'initial_days', 'total_charge', 'gender_f', 'gender_m', 'gender_n', 'services_bw', 'services_ct',\n",
    "                 'services_i', 'services_mri']\n",
    "mrd_clean = mrd_clean.set_axis(pythonic_cols, axis = 1)\n",
    "mrd_clean.info()"
   ]
  },
  {
   "cell_type": "code",
   "execution_count": 22,
   "id": "2a0e5174-16f4-403a-b58b-d2ae3a7d16e3",
   "metadata": {},
   "outputs": [],
   "source": [
    "#export our preprocessed data to csv file\n",
    "\n",
    "mrd_clean.to_csv('med_task2.csv', index = False)"
   ]
  },
  {
   "cell_type": "code",
   "execution_count": 23,
   "id": "5534c4a1-42b1-477d-b6db-a76958d2611d",
   "metadata": {},
   "outputs": [],
   "source": [
    "#moving onto our model, we can define our X and y\n",
    "#X is our predictor variables and y is our dependent variable, totalcharge\n",
    "#import train_test_split to then split our data into training and testing sets\n",
    "#this will be done in a 70/30 split\n",
    "\n",
    "from sklearn.model_selection import train_test_split\n",
    "\n",
    "mrd_X = mrd_clean.drop(['total_charge'], axis = 1).copy()\n",
    "mrd_y = mrd_clean['total_charge'].copy()\n",
    "\n",
    "X = mrd_X\n",
    "y = mrd_y\n",
    "\n",
    "X_train, X_test, y_train, y_test = train_test_split(X, y, test_size = 0.3, random_state = 42)"
   ]
  },
  {
   "cell_type": "code",
   "execution_count": 24,
   "id": "4a1d8d5a-0bca-45bd-b692-5d110d2e68b4",
   "metadata": {},
   "outputs": [],
   "source": [
    "#export these sets to their own csv file for submission\n",
    "\n",
    "pd.DataFrame(X_train, y_train).to_csv('train_set2.csv', index = False)\n",
    "pd.DataFrame(X_test, y_test).to_csv('test_set2.csv', index = False)"
   ]
  },
  {
   "cell_type": "code",
   "execution_count": 25,
   "id": "54c836cb-8dac-433c-87cd-2cab4672dd19",
   "metadata": {},
   "outputs": [
    {
     "name": "stdout",
     "output_type": "stream",
     "text": [
      "[0.9840351399190231, 0.9840346632602056, 0.9840240277657294, 0.9835014206407561, 0.9673105469607766, 0.6781292309252731]\n"
     ]
    }
   ],
   "source": [
    "#set up alpha testing\n",
    "#import Ridge\n",
    "#print the scores to determine best alpha for our model\n",
    "\n",
    "from sklearn.linear_model import Ridge\n",
    "\n",
    "alphas = [0.1, 1.0, 10.0, 100.0, 1000.0, 10000.0]\n",
    "ridge_scores = []\n",
    "for alpha in alphas:\n",
    "    ridge = Ridge(alpha = alpha)\n",
    "    ridge.fit(X_train, y_train)\n",
    "    score = ridge.score(X_test, y_test)\n",
    "    ridge_scores.append(score)\n",
    "print(ridge_scores)"
   ]
  },
  {
   "cell_type": "code",
   "execution_count": 26,
   "id": "4af66651-3e7b-4a8c-a134-c6f301513f17",
   "metadata": {},
   "outputs": [
    {
     "name": "stdout",
     "output_type": "stream",
     "text": [
      "Best Alpha Value: 0.1\n"
     ]
    }
   ],
   "source": [
    "#import numpy for numerical computation\n",
    "#find our best alpha value\n",
    "\n",
    "import numpy as np\n",
    "\n",
    "best_alpha_index = np.argmax(ridge_scores)\n",
    "best_alpha = alphas[best_alpha_index]\n",
    "\n",
    "print(\"Best Alpha Value:\", best_alpha)"
   ]
  },
  {
   "cell_type": "code",
   "execution_count": 27,
   "id": "4917d2e6-14c8-4511-83e6-d5504c010c36",
   "metadata": {},
   "outputs": [
    {
     "data": {
      "text/html": [
       "<style>#sk-container-id-1 {\n",
       "  /* Definition of color scheme common for light and dark mode */\n",
       "  --sklearn-color-text: black;\n",
       "  --sklearn-color-line: gray;\n",
       "  /* Definition of color scheme for unfitted estimators */\n",
       "  --sklearn-color-unfitted-level-0: #fff5e6;\n",
       "  --sklearn-color-unfitted-level-1: #f6e4d2;\n",
       "  --sklearn-color-unfitted-level-2: #ffe0b3;\n",
       "  --sklearn-color-unfitted-level-3: chocolate;\n",
       "  /* Definition of color scheme for fitted estimators */\n",
       "  --sklearn-color-fitted-level-0: #f0f8ff;\n",
       "  --sklearn-color-fitted-level-1: #d4ebff;\n",
       "  --sklearn-color-fitted-level-2: #b3dbfd;\n",
       "  --sklearn-color-fitted-level-3: cornflowerblue;\n",
       "\n",
       "  /* Specific color for light theme */\n",
       "  --sklearn-color-text-on-default-background: var(--sg-text-color, var(--theme-code-foreground, var(--jp-content-font-color1, black)));\n",
       "  --sklearn-color-background: var(--sg-background-color, var(--theme-background, var(--jp-layout-color0, white)));\n",
       "  --sklearn-color-border-box: var(--sg-text-color, var(--theme-code-foreground, var(--jp-content-font-color1, black)));\n",
       "  --sklearn-color-icon: #696969;\n",
       "\n",
       "  @media (prefers-color-scheme: dark) {\n",
       "    /* Redefinition of color scheme for dark theme */\n",
       "    --sklearn-color-text-on-default-background: var(--sg-text-color, var(--theme-code-foreground, var(--jp-content-font-color1, white)));\n",
       "    --sklearn-color-background: var(--sg-background-color, var(--theme-background, var(--jp-layout-color0, #111)));\n",
       "    --sklearn-color-border-box: var(--sg-text-color, var(--theme-code-foreground, var(--jp-content-font-color1, white)));\n",
       "    --sklearn-color-icon: #878787;\n",
       "  }\n",
       "}\n",
       "\n",
       "#sk-container-id-1 {\n",
       "  color: var(--sklearn-color-text);\n",
       "}\n",
       "\n",
       "#sk-container-id-1 pre {\n",
       "  padding: 0;\n",
       "}\n",
       "\n",
       "#sk-container-id-1 input.sk-hidden--visually {\n",
       "  border: 0;\n",
       "  clip: rect(1px 1px 1px 1px);\n",
       "  clip: rect(1px, 1px, 1px, 1px);\n",
       "  height: 1px;\n",
       "  margin: -1px;\n",
       "  overflow: hidden;\n",
       "  padding: 0;\n",
       "  position: absolute;\n",
       "  width: 1px;\n",
       "}\n",
       "\n",
       "#sk-container-id-1 div.sk-dashed-wrapped {\n",
       "  border: 1px dashed var(--sklearn-color-line);\n",
       "  margin: 0 0.4em 0.5em 0.4em;\n",
       "  box-sizing: border-box;\n",
       "  padding-bottom: 0.4em;\n",
       "  background-color: var(--sklearn-color-background);\n",
       "}\n",
       "\n",
       "#sk-container-id-1 div.sk-container {\n",
       "  /* jupyter's `normalize.less` sets `[hidden] { display: none; }`\n",
       "     but bootstrap.min.css set `[hidden] { display: none !important; }`\n",
       "     so we also need the `!important` here to be able to override the\n",
       "     default hidden behavior on the sphinx rendered scikit-learn.org.\n",
       "     See: https://github.com/scikit-learn/scikit-learn/issues/21755 */\n",
       "  display: inline-block !important;\n",
       "  position: relative;\n",
       "}\n",
       "\n",
       "#sk-container-id-1 div.sk-text-repr-fallback {\n",
       "  display: none;\n",
       "}\n",
       "\n",
       "div.sk-parallel-item,\n",
       "div.sk-serial,\n",
       "div.sk-item {\n",
       "  /* draw centered vertical line to link estimators */\n",
       "  background-image: linear-gradient(var(--sklearn-color-text-on-default-background), var(--sklearn-color-text-on-default-background));\n",
       "  background-size: 2px 100%;\n",
       "  background-repeat: no-repeat;\n",
       "  background-position: center center;\n",
       "}\n",
       "\n",
       "/* Parallel-specific style estimator block */\n",
       "\n",
       "#sk-container-id-1 div.sk-parallel-item::after {\n",
       "  content: \"\";\n",
       "  width: 100%;\n",
       "  border-bottom: 2px solid var(--sklearn-color-text-on-default-background);\n",
       "  flex-grow: 1;\n",
       "}\n",
       "\n",
       "#sk-container-id-1 div.sk-parallel {\n",
       "  display: flex;\n",
       "  align-items: stretch;\n",
       "  justify-content: center;\n",
       "  background-color: var(--sklearn-color-background);\n",
       "  position: relative;\n",
       "}\n",
       "\n",
       "#sk-container-id-1 div.sk-parallel-item {\n",
       "  display: flex;\n",
       "  flex-direction: column;\n",
       "}\n",
       "\n",
       "#sk-container-id-1 div.sk-parallel-item:first-child::after {\n",
       "  align-self: flex-end;\n",
       "  width: 50%;\n",
       "}\n",
       "\n",
       "#sk-container-id-1 div.sk-parallel-item:last-child::after {\n",
       "  align-self: flex-start;\n",
       "  width: 50%;\n",
       "}\n",
       "\n",
       "#sk-container-id-1 div.sk-parallel-item:only-child::after {\n",
       "  width: 0;\n",
       "}\n",
       "\n",
       "/* Serial-specific style estimator block */\n",
       "\n",
       "#sk-container-id-1 div.sk-serial {\n",
       "  display: flex;\n",
       "  flex-direction: column;\n",
       "  align-items: center;\n",
       "  background-color: var(--sklearn-color-background);\n",
       "  padding-right: 1em;\n",
       "  padding-left: 1em;\n",
       "}\n",
       "\n",
       "\n",
       "/* Toggleable style: style used for estimator/Pipeline/ColumnTransformer box that is\n",
       "clickable and can be expanded/collapsed.\n",
       "- Pipeline and ColumnTransformer use this feature and define the default style\n",
       "- Estimators will overwrite some part of the style using the `sk-estimator` class\n",
       "*/\n",
       "\n",
       "/* Pipeline and ColumnTransformer style (default) */\n",
       "\n",
       "#sk-container-id-1 div.sk-toggleable {\n",
       "  /* Default theme specific background. It is overwritten whether we have a\n",
       "  specific estimator or a Pipeline/ColumnTransformer */\n",
       "  background-color: var(--sklearn-color-background);\n",
       "}\n",
       "\n",
       "/* Toggleable label */\n",
       "#sk-container-id-1 label.sk-toggleable__label {\n",
       "  cursor: pointer;\n",
       "  display: block;\n",
       "  width: 100%;\n",
       "  margin-bottom: 0;\n",
       "  padding: 0.5em;\n",
       "  box-sizing: border-box;\n",
       "  text-align: center;\n",
       "}\n",
       "\n",
       "#sk-container-id-1 label.sk-toggleable__label-arrow:before {\n",
       "  /* Arrow on the left of the label */\n",
       "  content: \"▸\";\n",
       "  float: left;\n",
       "  margin-right: 0.25em;\n",
       "  color: var(--sklearn-color-icon);\n",
       "}\n",
       "\n",
       "#sk-container-id-1 label.sk-toggleable__label-arrow:hover:before {\n",
       "  color: var(--sklearn-color-text);\n",
       "}\n",
       "\n",
       "/* Toggleable content - dropdown */\n",
       "\n",
       "#sk-container-id-1 div.sk-toggleable__content {\n",
       "  max-height: 0;\n",
       "  max-width: 0;\n",
       "  overflow: hidden;\n",
       "  text-align: left;\n",
       "  /* unfitted */\n",
       "  background-color: var(--sklearn-color-unfitted-level-0);\n",
       "}\n",
       "\n",
       "#sk-container-id-1 div.sk-toggleable__content.fitted {\n",
       "  /* fitted */\n",
       "  background-color: var(--sklearn-color-fitted-level-0);\n",
       "}\n",
       "\n",
       "#sk-container-id-1 div.sk-toggleable__content pre {\n",
       "  margin: 0.2em;\n",
       "  border-radius: 0.25em;\n",
       "  color: var(--sklearn-color-text);\n",
       "  /* unfitted */\n",
       "  background-color: var(--sklearn-color-unfitted-level-0);\n",
       "}\n",
       "\n",
       "#sk-container-id-1 div.sk-toggleable__content.fitted pre {\n",
       "  /* unfitted */\n",
       "  background-color: var(--sklearn-color-fitted-level-0);\n",
       "}\n",
       "\n",
       "#sk-container-id-1 input.sk-toggleable__control:checked~div.sk-toggleable__content {\n",
       "  /* Expand drop-down */\n",
       "  max-height: 200px;\n",
       "  max-width: 100%;\n",
       "  overflow: auto;\n",
       "}\n",
       "\n",
       "#sk-container-id-1 input.sk-toggleable__control:checked~label.sk-toggleable__label-arrow:before {\n",
       "  content: \"▾\";\n",
       "}\n",
       "\n",
       "/* Pipeline/ColumnTransformer-specific style */\n",
       "\n",
       "#sk-container-id-1 div.sk-label input.sk-toggleable__control:checked~label.sk-toggleable__label {\n",
       "  color: var(--sklearn-color-text);\n",
       "  background-color: var(--sklearn-color-unfitted-level-2);\n",
       "}\n",
       "\n",
       "#sk-container-id-1 div.sk-label.fitted input.sk-toggleable__control:checked~label.sk-toggleable__label {\n",
       "  background-color: var(--sklearn-color-fitted-level-2);\n",
       "}\n",
       "\n",
       "/* Estimator-specific style */\n",
       "\n",
       "/* Colorize estimator box */\n",
       "#sk-container-id-1 div.sk-estimator input.sk-toggleable__control:checked~label.sk-toggleable__label {\n",
       "  /* unfitted */\n",
       "  background-color: var(--sklearn-color-unfitted-level-2);\n",
       "}\n",
       "\n",
       "#sk-container-id-1 div.sk-estimator.fitted input.sk-toggleable__control:checked~label.sk-toggleable__label {\n",
       "  /* fitted */\n",
       "  background-color: var(--sklearn-color-fitted-level-2);\n",
       "}\n",
       "\n",
       "#sk-container-id-1 div.sk-label label.sk-toggleable__label,\n",
       "#sk-container-id-1 div.sk-label label {\n",
       "  /* The background is the default theme color */\n",
       "  color: var(--sklearn-color-text-on-default-background);\n",
       "}\n",
       "\n",
       "/* On hover, darken the color of the background */\n",
       "#sk-container-id-1 div.sk-label:hover label.sk-toggleable__label {\n",
       "  color: var(--sklearn-color-text);\n",
       "  background-color: var(--sklearn-color-unfitted-level-2);\n",
       "}\n",
       "\n",
       "/* Label box, darken color on hover, fitted */\n",
       "#sk-container-id-1 div.sk-label.fitted:hover label.sk-toggleable__label.fitted {\n",
       "  color: var(--sklearn-color-text);\n",
       "  background-color: var(--sklearn-color-fitted-level-2);\n",
       "}\n",
       "\n",
       "/* Estimator label */\n",
       "\n",
       "#sk-container-id-1 div.sk-label label {\n",
       "  font-family: monospace;\n",
       "  font-weight: bold;\n",
       "  display: inline-block;\n",
       "  line-height: 1.2em;\n",
       "}\n",
       "\n",
       "#sk-container-id-1 div.sk-label-container {\n",
       "  text-align: center;\n",
       "}\n",
       "\n",
       "/* Estimator-specific */\n",
       "#sk-container-id-1 div.sk-estimator {\n",
       "  font-family: monospace;\n",
       "  border: 1px dotted var(--sklearn-color-border-box);\n",
       "  border-radius: 0.25em;\n",
       "  box-sizing: border-box;\n",
       "  margin-bottom: 0.5em;\n",
       "  /* unfitted */\n",
       "  background-color: var(--sklearn-color-unfitted-level-0);\n",
       "}\n",
       "\n",
       "#sk-container-id-1 div.sk-estimator.fitted {\n",
       "  /* fitted */\n",
       "  background-color: var(--sklearn-color-fitted-level-0);\n",
       "}\n",
       "\n",
       "/* on hover */\n",
       "#sk-container-id-1 div.sk-estimator:hover {\n",
       "  /* unfitted */\n",
       "  background-color: var(--sklearn-color-unfitted-level-2);\n",
       "}\n",
       "\n",
       "#sk-container-id-1 div.sk-estimator.fitted:hover {\n",
       "  /* fitted */\n",
       "  background-color: var(--sklearn-color-fitted-level-2);\n",
       "}\n",
       "\n",
       "/* Specification for estimator info (e.g. \"i\" and \"?\") */\n",
       "\n",
       "/* Common style for \"i\" and \"?\" */\n",
       "\n",
       ".sk-estimator-doc-link,\n",
       "a:link.sk-estimator-doc-link,\n",
       "a:visited.sk-estimator-doc-link {\n",
       "  float: right;\n",
       "  font-size: smaller;\n",
       "  line-height: 1em;\n",
       "  font-family: monospace;\n",
       "  background-color: var(--sklearn-color-background);\n",
       "  border-radius: 1em;\n",
       "  height: 1em;\n",
       "  width: 1em;\n",
       "  text-decoration: none !important;\n",
       "  margin-left: 1ex;\n",
       "  /* unfitted */\n",
       "  border: var(--sklearn-color-unfitted-level-1) 1pt solid;\n",
       "  color: var(--sklearn-color-unfitted-level-1);\n",
       "}\n",
       "\n",
       ".sk-estimator-doc-link.fitted,\n",
       "a:link.sk-estimator-doc-link.fitted,\n",
       "a:visited.sk-estimator-doc-link.fitted {\n",
       "  /* fitted */\n",
       "  border: var(--sklearn-color-fitted-level-1) 1pt solid;\n",
       "  color: var(--sklearn-color-fitted-level-1);\n",
       "}\n",
       "\n",
       "/* On hover */\n",
       "div.sk-estimator:hover .sk-estimator-doc-link:hover,\n",
       ".sk-estimator-doc-link:hover,\n",
       "div.sk-label-container:hover .sk-estimator-doc-link:hover,\n",
       ".sk-estimator-doc-link:hover {\n",
       "  /* unfitted */\n",
       "  background-color: var(--sklearn-color-unfitted-level-3);\n",
       "  color: var(--sklearn-color-background);\n",
       "  text-decoration: none;\n",
       "}\n",
       "\n",
       "div.sk-estimator.fitted:hover .sk-estimator-doc-link.fitted:hover,\n",
       ".sk-estimator-doc-link.fitted:hover,\n",
       "div.sk-label-container:hover .sk-estimator-doc-link.fitted:hover,\n",
       ".sk-estimator-doc-link.fitted:hover {\n",
       "  /* fitted */\n",
       "  background-color: var(--sklearn-color-fitted-level-3);\n",
       "  color: var(--sklearn-color-background);\n",
       "  text-decoration: none;\n",
       "}\n",
       "\n",
       "/* Span, style for the box shown on hovering the info icon */\n",
       ".sk-estimator-doc-link span {\n",
       "  display: none;\n",
       "  z-index: 9999;\n",
       "  position: relative;\n",
       "  font-weight: normal;\n",
       "  right: .2ex;\n",
       "  padding: .5ex;\n",
       "  margin: .5ex;\n",
       "  width: min-content;\n",
       "  min-width: 20ex;\n",
       "  max-width: 50ex;\n",
       "  color: var(--sklearn-color-text);\n",
       "  box-shadow: 2pt 2pt 4pt #999;\n",
       "  /* unfitted */\n",
       "  background: var(--sklearn-color-unfitted-level-0);\n",
       "  border: .5pt solid var(--sklearn-color-unfitted-level-3);\n",
       "}\n",
       "\n",
       ".sk-estimator-doc-link.fitted span {\n",
       "  /* fitted */\n",
       "  background: var(--sklearn-color-fitted-level-0);\n",
       "  border: var(--sklearn-color-fitted-level-3);\n",
       "}\n",
       "\n",
       ".sk-estimator-doc-link:hover span {\n",
       "  display: block;\n",
       "}\n",
       "\n",
       "/* \"?\"-specific style due to the `<a>` HTML tag */\n",
       "\n",
       "#sk-container-id-1 a.estimator_doc_link {\n",
       "  float: right;\n",
       "  font-size: 1rem;\n",
       "  line-height: 1em;\n",
       "  font-family: monospace;\n",
       "  background-color: var(--sklearn-color-background);\n",
       "  border-radius: 1rem;\n",
       "  height: 1rem;\n",
       "  width: 1rem;\n",
       "  text-decoration: none;\n",
       "  /* unfitted */\n",
       "  color: var(--sklearn-color-unfitted-level-1);\n",
       "  border: var(--sklearn-color-unfitted-level-1) 1pt solid;\n",
       "}\n",
       "\n",
       "#sk-container-id-1 a.estimator_doc_link.fitted {\n",
       "  /* fitted */\n",
       "  border: var(--sklearn-color-fitted-level-1) 1pt solid;\n",
       "  color: var(--sklearn-color-fitted-level-1);\n",
       "}\n",
       "\n",
       "/* On hover */\n",
       "#sk-container-id-1 a.estimator_doc_link:hover {\n",
       "  /* unfitted */\n",
       "  background-color: var(--sklearn-color-unfitted-level-3);\n",
       "  color: var(--sklearn-color-background);\n",
       "  text-decoration: none;\n",
       "}\n",
       "\n",
       "#sk-container-id-1 a.estimator_doc_link.fitted:hover {\n",
       "  /* fitted */\n",
       "  background-color: var(--sklearn-color-fitted-level-3);\n",
       "}\n",
       "</style><div id=\"sk-container-id-1\" class=\"sk-top-container\"><div class=\"sk-text-repr-fallback\"><pre>Ridge(alpha=0.1)</pre><b>In a Jupyter environment, please rerun this cell to show the HTML representation or trust the notebook. <br />On GitHub, the HTML representation is unable to render, please try loading this page with nbviewer.org.</b></div><div class=\"sk-container\" hidden><div class=\"sk-item\"><div class=\"sk-estimator fitted sk-toggleable\"><input class=\"sk-toggleable__control sk-hidden--visually\" id=\"sk-estimator-id-1\" type=\"checkbox\" checked><label for=\"sk-estimator-id-1\" class=\"sk-toggleable__label fitted sk-toggleable__label-arrow fitted\">&nbsp;&nbsp;Ridge<a class=\"sk-estimator-doc-link fitted\" rel=\"noreferrer\" target=\"_blank\" href=\"https://scikit-learn.org/1.4/modules/generated/sklearn.linear_model.Ridge.html\">?<span>Documentation for Ridge</span></a><span class=\"sk-estimator-doc-link fitted\">i<span>Fitted</span></span></label><div class=\"sk-toggleable__content fitted\"><pre>Ridge(alpha=0.1)</pre></div> </div></div></div></div>"
      ],
      "text/plain": [
       "Ridge(alpha=0.1)"
      ]
     },
     "execution_count": 27,
     "metadata": {},
     "output_type": "execute_result"
    }
   ],
   "source": [
    "#now we can set up our model with our best parameter - as found above to be 0.1\n",
    "#then fit the model to the training data\n",
    "\n",
    "ridge = Ridge(alpha = 0.1)\n",
    "ridge.fit(X_train, y_train)"
   ]
  },
  {
   "cell_type": "code",
   "execution_count": 28,
   "id": "554e3ad3-5d7d-4f04-8059-b55dcac2da7c",
   "metadata": {},
   "outputs": [
    {
     "name": "stdout",
     "output_type": "stream",
     "text": [
      "Train score is 0.9837261660545391\n",
      "Test score is 0.9840351399190231\n"
     ]
    }
   ],
   "source": [
    "#determine the scores of our model\n",
    "#print our values\n",
    "\n",
    "train_acc = ridge.score(X_train, y_train)\n",
    "test_acc = ridge.score(X_test, y_test)\n",
    "\n",
    "print(\"Train score is {}\".format(train_acc))\n",
    "print(\"Test score is {}\".format(test_acc))"
   ]
  },
  {
   "cell_type": "code",
   "execution_count": 29,
   "id": "97ff0ad3-f70a-4fc3-a9a3-76f180f4c73a",
   "metadata": {},
   "outputs": [
    {
     "name": "stdout",
     "output_type": "stream",
     "text": [
      "R^2 Value: 0.9840351399190231\n",
      "MSE Value: 76467.09794306676\n",
      "RMSE Value: 276.5268485031187\n"
     ]
    },
    {
     "name": "stderr",
     "output_type": "stream",
     "text": [
      "/Applications/anaconda3/lib/python3.12/site-packages/sklearn/metrics/_regression.py:483: FutureWarning: 'squared' is deprecated in version 1.4 and will be removed in 1.6. To calculate the root mean squared error, use the function'root_mean_squared_error'.\n",
      "  warnings.warn(\n"
     ]
    }
   ],
   "source": [
    "#can now calculate the mean squared error (MSE) and root mean squared error (RMSE)\n",
    "#import mean_squared_error for this calculation\n",
    "#print our values\n",
    "\n",
    "from sklearn.metrics import mean_squared_error as mse\n",
    "\n",
    "\n",
    "predictions = ridge.predict(X_test)\n",
    "r_squared = test_acc\n",
    "mse_val = mse(y_test, predictions)\n",
    "rmse = mse(y_test, predictions, squared = False)\n",
    "\n",
    "print(\"R^2 Value: {}\".format(r_squared))\n",
    "print(\"MSE Value: {}\".format(mse_val))\n",
    "print(\"RMSE Value: {}\".format(rmse))"
   ]
  },
  {
   "cell_type": "code",
   "execution_count": 30,
   "id": "1f38fe71-5833-4230-9719-5e914efa288f",
   "metadata": {},
   "outputs": [
    {
     "name": "stdout",
     "output_type": "stream",
     "text": [
      "9180\n"
     ]
    }
   ],
   "source": [
    "#due to high MSE, investigate our data\n",
    "#look at maximum value of our dependent variable\n",
    "\n",
    "print(max(mrd_clean[\"total_charge\"]))"
   ]
  },
  {
   "cell_type": "code",
   "execution_count": 31,
   "id": "7fb5a429-5786-4cb4-97b0-1abf6f7358ba",
   "metadata": {},
   "outputs": [
    {
     "name": "stdout",
     "output_type": "stream",
     "text": [
      "1938\n"
     ]
    }
   ],
   "source": [
    "#now look at minimum value of dependent variable\n",
    "#due to higher values, could explain higher values of MSE and RMSE\n",
    "\n",
    "print(min(mrd_clean[\"total_charge\"]))"
   ]
  },
  {
   "cell_type": "code",
   "execution_count": 32,
   "id": "938e8cae-5bbf-4dee-9a65-c64b49c1174c",
   "metadata": {},
   "outputs": [
    {
     "name": "stdout",
     "output_type": "stream",
     "text": [
      "Cross-validation R^2 scores: [0.98310459 0.98420043 0.98342526 0.98331949 0.9837071 ]\n"
     ]
    }
   ],
   "source": [
    "#run cross-validation to see how the model is generalizing\n",
    "#import cross_val_score to compute this\n",
    "#print scores\n",
    "\n",
    "from sklearn.model_selection import cross_val_score\n",
    "\n",
    "scores = cross_val_score(ridge, X_train, y_train, scoring = 'r2', cv = 5)\n",
    "print(f\"Cross-validation R^2 scores: {scores}\")"
   ]
  },
  {
   "cell_type": "code",
   "execution_count": null,
   "id": "3e5159d6-372b-4992-b617-7e94b9069f4d",
   "metadata": {},
   "outputs": [],
   "source": []
  }
 ],
 "metadata": {
  "kernelspec": {
   "display_name": "Python 3 (ipykernel)",
   "language": "python",
   "name": "python3"
  },
  "language_info": {
   "codemirror_mode": {
    "name": "ipython",
    "version": 3
   },
   "file_extension": ".py",
   "mimetype": "text/x-python",
   "name": "python",
   "nbconvert_exporter": "python",
   "pygments_lexer": "ipython3",
   "version": "3.12.4"
  }
 },
 "nbformat": 4,
 "nbformat_minor": 5
}

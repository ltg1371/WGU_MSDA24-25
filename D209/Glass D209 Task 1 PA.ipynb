{
 "cells": [
  {
   "cell_type": "code",
   "execution_count": 1,
   "id": "a3b84607-c0f5-4034-862d-de3e134ef36c",
   "metadata": {},
   "outputs": [
    {
     "name": "stdout",
     "output_type": "stream",
     "text": [
      "<class 'pandas.core.frame.DataFrame'>\n",
      "RangeIndex: 10000 entries, 0 to 9999\n",
      "Data columns (total 50 columns):\n",
      " #   Column              Non-Null Count  Dtype  \n",
      "---  ------              --------------  -----  \n",
      " 0   CaseOrder           10000 non-null  int64  \n",
      " 1   Customer_id         10000 non-null  object \n",
      " 2   Interaction         10000 non-null  object \n",
      " 3   UID                 10000 non-null  object \n",
      " 4   City                10000 non-null  object \n",
      " 5   State               10000 non-null  object \n",
      " 6   County              10000 non-null  object \n",
      " 7   Zip                 10000 non-null  int64  \n",
      " 8   Lat                 10000 non-null  float64\n",
      " 9   Lng                 10000 non-null  float64\n",
      " 10  Population          10000 non-null  int64  \n",
      " 11  Area                10000 non-null  object \n",
      " 12  TimeZone            10000 non-null  object \n",
      " 13  Job                 10000 non-null  object \n",
      " 14  Children            10000 non-null  int64  \n",
      " 15  Age                 10000 non-null  int64  \n",
      " 16  Income              10000 non-null  float64\n",
      " 17  Marital             10000 non-null  object \n",
      " 18  Gender              10000 non-null  object \n",
      " 19  ReAdmis             10000 non-null  object \n",
      " 20  VitD_levels         10000 non-null  float64\n",
      " 21  Doc_visits          10000 non-null  int64  \n",
      " 22  Full_meals_eaten    10000 non-null  int64  \n",
      " 23  vitD_supp           10000 non-null  int64  \n",
      " 24  Soft_drink          10000 non-null  object \n",
      " 25  Initial_admin       10000 non-null  object \n",
      " 26  HighBlood           10000 non-null  object \n",
      " 27  Stroke              10000 non-null  object \n",
      " 28  Complication_risk   10000 non-null  object \n",
      " 29  Overweight          10000 non-null  object \n",
      " 30  Arthritis           10000 non-null  object \n",
      " 31  Diabetes            10000 non-null  object \n",
      " 32  Hyperlipidemia      10000 non-null  object \n",
      " 33  BackPain            10000 non-null  object \n",
      " 34  Anxiety             10000 non-null  object \n",
      " 35  Allergic_rhinitis   10000 non-null  object \n",
      " 36  Reflux_esophagitis  10000 non-null  object \n",
      " 37  Asthma              10000 non-null  object \n",
      " 38  Services            10000 non-null  object \n",
      " 39  Initial_days        10000 non-null  float64\n",
      " 40  TotalCharge         10000 non-null  float64\n",
      " 41  Additional_charges  10000 non-null  float64\n",
      " 42  Item1               10000 non-null  int64  \n",
      " 43  Item2               10000 non-null  int64  \n",
      " 44  Item3               10000 non-null  int64  \n",
      " 45  Item4               10000 non-null  int64  \n",
      " 46  Item5               10000 non-null  int64  \n",
      " 47  Item6               10000 non-null  int64  \n",
      " 48  Item7               10000 non-null  int64  \n",
      " 49  Item8               10000 non-null  int64  \n",
      "dtypes: float64(7), int64(16), object(27)\n",
      "memory usage: 3.8+ MB\n"
     ]
    }
   ],
   "source": [
    "#import pandas for reading and handling of data\n",
    "\n",
    "import pandas as pd\n",
    "\n",
    "filename = 'medical_clean.csv'\n",
    "mrd = pd.read_csv(filename)\n",
    "mrd.info()"
   ]
  },
  {
   "cell_type": "code",
   "execution_count": 2,
   "id": "79636ec9-5808-4f00-8499-bc2f35929cf8",
   "metadata": {},
   "outputs": [
    {
     "name": "stdout",
     "output_type": "stream",
     "text": [
      "<class 'pandas.core.frame.DataFrame'>\n",
      "RangeIndex: 10000 entries, 0 to 9999\n",
      "Data columns (total 23 columns):\n",
      " #   Column              Non-Null Count  Dtype  \n",
      "---  ------              --------------  -----  \n",
      " 0   Children            10000 non-null  int64  \n",
      " 1   Age                 10000 non-null  int64  \n",
      " 2   Gender              10000 non-null  object \n",
      " 3   ReAdmis             10000 non-null  object \n",
      " 4   VitD_levels         10000 non-null  float64\n",
      " 5   Doc_visits          10000 non-null  int64  \n",
      " 6   Full_meals_eaten    10000 non-null  int64  \n",
      " 7   vitD_supp           10000 non-null  int64  \n",
      " 8   Soft_drink          10000 non-null  object \n",
      " 9   Initial_admin       10000 non-null  object \n",
      " 10  HighBlood           10000 non-null  object \n",
      " 11  Stroke              10000 non-null  object \n",
      " 12  Complication_risk   10000 non-null  object \n",
      " 13  Overweight          10000 non-null  object \n",
      " 14  Arthritis           10000 non-null  object \n",
      " 15  Diabetes            10000 non-null  object \n",
      " 16  Hyperlipidemia      10000 non-null  object \n",
      " 17  BackPain            10000 non-null  object \n",
      " 18  Anxiety             10000 non-null  object \n",
      " 19  Allergic_rhinitis   10000 non-null  object \n",
      " 20  Reflux_esophagitis  10000 non-null  object \n",
      " 21  Asthma              10000 non-null  object \n",
      " 22  Initial_days        10000 non-null  float64\n",
      "dtypes: float64(2), int64(5), object(16)\n",
      "memory usage: 1.8+ MB\n"
     ]
    }
   ],
   "source": [
    "#drop columns that are not relevant to the task\n",
    "\n",
    "\n",
    "mrd_clean = mrd.drop(['CaseOrder', 'Customer_id', 'Interaction', 'UID', 'City', 'State', 'County', 'Zip', 'Lat', 'Lng', 'Population', 'Area',\n",
    "                      'TimeZone', 'Job', 'Income', 'Marital', 'Services', 'TotalCharge', 'Additional_charges', 'Item1', 'Item2', 'Item3', 'Item4', 'Item5', 'Item6', 'Item7',\n",
    "                      'Item8'], axis = 1)\n",
    "mrd_clean.info()"
   ]
  },
  {
   "cell_type": "code",
   "execution_count": 3,
   "id": "76c3cdf8-1cc9-4134-9028-f605f308eefb",
   "metadata": {},
   "outputs": [
    {
     "data": {
      "text/plain": [
       "Children              0\n",
       "Age                   0\n",
       "Gender                0\n",
       "ReAdmis               0\n",
       "VitD_levels           0\n",
       "Doc_visits            0\n",
       "Full_meals_eaten      0\n",
       "vitD_supp             0\n",
       "Soft_drink            0\n",
       "Initial_admin         0\n",
       "HighBlood             0\n",
       "Stroke                0\n",
       "Complication_risk     0\n",
       "Overweight            0\n",
       "Arthritis             0\n",
       "Diabetes              0\n",
       "Hyperlipidemia        0\n",
       "BackPain              0\n",
       "Anxiety               0\n",
       "Allergic_rhinitis     0\n",
       "Reflux_esophagitis    0\n",
       "Asthma                0\n",
       "Initial_days          0\n",
       "dtype: int64"
      ]
     },
     "execution_count": 3,
     "metadata": {},
     "output_type": "execute_result"
    }
   ],
   "source": [
    "#check the data for missing values\n",
    "\n",
    "mrd_clean.isnull().sum()"
   ]
  },
  {
   "cell_type": "code",
   "execution_count": 4,
   "id": "0f1ada5a-ef4d-4150-934a-dcee4cea7fb9",
   "metadata": {},
   "outputs": [
    {
     "data": {
      "text/plain": [
       "202"
      ]
     },
     "execution_count": 4,
     "metadata": {},
     "output_type": "execute_result"
    }
   ],
   "source": [
    "#import stats to check for outliers\n",
    "#import seaborn to visualize these outliers\n",
    "#start with variable Children and repeat the process for the continuous variables\n",
    "\n",
    "from scipy import stats\n",
    "import seaborn as sb\n",
    "\n",
    "mrd_clean['zscore_children'] = stats.zscore(mrd_clean['Children'])\n",
    "sum(mrd_clean.zscore_children > 3)"
   ]
  },
  {
   "cell_type": "code",
   "execution_count": 5,
   "id": "70a77f41-50a9-4917-af1e-1822e24ea7a7",
   "metadata": {},
   "outputs": [
    {
     "data": {
      "image/png": "[encoded data removed]",
      "text/plain": [
       "<Figure size 640x480 with 1 Axes>"
      ]
     },
     "metadata": {},
     "output_type": "display_data"
    }
   ],
   "source": [
    "out = sb.boxplot(x = 'Children', data = mrd_clean)"
   ]
  },
  {
   "cell_type": "code",
   "execution_count": 6,
   "id": "edc7535f-2899-4179-bcc8-35d5f0b5cef8",
   "metadata": {},
   "outputs": [
    {
     "data": {
      "text/plain": [
       "0"
      ]
     },
     "execution_count": 6,
     "metadata": {},
     "output_type": "execute_result"
    }
   ],
   "source": [
    "mrd_clean['zscore_age'] = stats.zscore(mrd_clean['Age'])\n",
    "sum((mrd_clean.zscore_age < -3) | (mrd_clean.zscore_age > 3))"
   ]
  },
  {
   "cell_type": "code",
   "execution_count": 7,
   "id": "ac4b715a-9ada-4247-803c-01a72d07e0a4",
   "metadata": {},
   "outputs": [
    {
     "data": {
      "image/png": "[encoded data removed]",
      "text/plain": [
       "<Figure size 640x480 with 1 Axes>"
      ]
     },
     "metadata": {},
     "output_type": "display_data"
    }
   ],
   "source": [
    "out = sb.boxplot(x = 'Age', data = mrd_clean)"
   ]
  },
  {
   "cell_type": "code",
   "execution_count": 8,
   "id": "3ea04395-3b0a-48ef-84ee-79c1353337c3",
   "metadata": {},
   "outputs": [
    {
     "data": {
      "text/plain": [
       "24"
      ]
     },
     "execution_count": 8,
     "metadata": {},
     "output_type": "execute_result"
    }
   ],
   "source": [
    "mrd_clean['zscore_vitd_levels'] = stats.zscore(mrd_clean['VitD_levels'])\n",
    "sum((mrd_clean.zscore_vitd_levels < -3) | (mrd_clean.zscore_vitd_levels > 3))"
   ]
  },
  {
   "cell_type": "code",
   "execution_count": 9,
   "id": "05497b4b-effd-4ce2-b9f1-4ce96d22da3a",
   "metadata": {},
   "outputs": [
    {
     "data": {
      "image/png": "[encoded data removed]",
      "text/plain": [
       "<Figure size 640x480 with 1 Axes>"
      ]
     },
     "metadata": {},
     "output_type": "display_data"
    }
   ],
   "source": [
    "out = sb.boxplot(x = 'VitD_levels', data = mrd_clean)"
   ]
  },
  {
   "cell_type": "code",
   "execution_count": 10,
   "id": "4540d729-ab1e-420b-9908-b783ae9d0ceb",
   "metadata": {},
   "outputs": [
    {
     "data": {
      "text/plain": [
       "8"
      ]
     },
     "execution_count": 10,
     "metadata": {},
     "output_type": "execute_result"
    }
   ],
   "source": [
    "mrd_clean['zscore_doc_visits'] = stats.zscore(mrd_clean['Doc_visits'])\n",
    "sum((mrd_clean.zscore_doc_visits < -3) | (mrd_clean.zscore_doc_visits > 3))"
   ]
  },
  {
   "cell_type": "code",
   "execution_count": 11,
   "id": "1939cf2c-7ea5-4c9b-a4f4-8f22c42c248c",
   "metadata": {},
   "outputs": [
    {
     "data": {
      "image/png": "[encoded data removed]",
      "text/plain": [
       "<Figure size 640x480 with 1 Axes>"
      ]
     },
     "metadata": {},
     "output_type": "display_data"
    }
   ],
   "source": [
    "out = sb.boxplot(x = 'Doc_visits', data = mrd_clean)"
   ]
  },
  {
   "cell_type": "code",
   "execution_count": 12,
   "id": "b48b559c-ca54-4f93-911a-447727a9e235",
   "metadata": {},
   "outputs": [
    {
     "data": {
      "text/plain": [
       "33"
      ]
     },
     "execution_count": 12,
     "metadata": {},
     "output_type": "execute_result"
    }
   ],
   "source": [
    "mrd_clean['zscore_fullmeals'] = stats.zscore(mrd_clean['Full_meals_eaten'])\n",
    "sum((mrd_clean.zscore_fullmeals < -3) | (mrd_clean.zscore_fullmeals > 3))"
   ]
  },
  {
   "cell_type": "code",
   "execution_count": 13,
   "id": "adf6488e-d5fa-4246-ad03-a5cf771a15e2",
   "metadata": {},
   "outputs": [
    {
     "data": {
      "image/png": "[encoded data removed]",
      "text/plain": [
       "<Figure size 640x480 with 1 Axes>"
      ]
     },
     "metadata": {},
     "output_type": "display_data"
    }
   ],
   "source": [
    "out = sb.boxplot(x = 'Full_meals_eaten', data = mrd_clean)"
   ]
  },
  {
   "cell_type": "code",
   "execution_count": 14,
   "id": "6db619d8-323e-4e6e-9f7b-c9b33c67714a",
   "metadata": {},
   "outputs": [
    {
     "data": {
      "text/plain": [
       "70"
      ]
     },
     "execution_count": 14,
     "metadata": {},
     "output_type": "execute_result"
    }
   ],
   "source": [
    "mrd_clean['zscore_vitdsupp'] = stats.zscore(mrd_clean['vitD_supp'])\n",
    "sum((mrd_clean.zscore_vitdsupp < -3) | (mrd_clean.zscore_vitdsupp > 3))"
   ]
  },
  {
   "cell_type": "code",
   "execution_count": 15,
   "id": "7259595d-6571-4c07-a0c4-efdca7aae822",
   "metadata": {},
   "outputs": [
    {
     "data": {
      "image/png": "[encoded data removed]",
      "text/plain": [
       "<Figure size 640x480 with 1 Axes>"
      ]
     },
     "metadata": {},
     "output_type": "display_data"
    }
   ],
   "source": [
    "out = sb.boxplot(x = 'vitD_supp', data = mrd_clean)"
   ]
  },
  {
   "cell_type": "code",
   "execution_count": 16,
   "id": "560fe2c2-2de3-4871-89cf-55f47e33294a",
   "metadata": {},
   "outputs": [
    {
     "data": {
      "text/plain": [
       "0"
      ]
     },
     "execution_count": 16,
     "metadata": {},
     "output_type": "execute_result"
    }
   ],
   "source": [
    "mrd_clean['zscore_initial'] = stats.zscore(mrd_clean['Initial_days'])\n",
    "sum((mrd_clean.zscore_initial < -3) | (mrd_clean.zscore_initial > 3))"
   ]
  },
  {
   "cell_type": "code",
   "execution_count": 17,
   "id": "51370581-7b61-41c3-b0c9-97f190d90316",
   "metadata": {},
   "outputs": [
    {
     "data": {
      "image/png": "[encoded data removed]",
      "text/plain": [
       "<Figure size 640x480 with 1 Axes>"
      ]
     },
     "metadata": {},
     "output_type": "display_data"
    }
   ],
   "source": [
    "out = sb.boxplot(x = 'Initial_days', data = mrd_clean)"
   ]
  },
  {
   "cell_type": "code",
   "execution_count": 18,
   "id": "e9fbcd6f-02de-46d0-b025-e2d237cce910",
   "metadata": {},
   "outputs": [
    {
     "name": "stdout",
     "output_type": "stream",
     "text": [
      "<class 'pandas.core.frame.DataFrame'>\n",
      "RangeIndex: 10000 entries, 0 to 9999\n",
      "Data columns (total 23 columns):\n",
      " #   Column              Non-Null Count  Dtype  \n",
      "---  ------              --------------  -----  \n",
      " 0   Children            10000 non-null  int64  \n",
      " 1   Age                 10000 non-null  int64  \n",
      " 2   Gender              10000 non-null  object \n",
      " 3   ReAdmis             10000 non-null  object \n",
      " 4   VitD_levels         10000 non-null  float64\n",
      " 5   Doc_visits          10000 non-null  int64  \n",
      " 6   Full_meals_eaten    10000 non-null  int64  \n",
      " 7   vitD_supp           10000 non-null  int64  \n",
      " 8   Soft_drink          10000 non-null  object \n",
      " 9   Initial_admin       10000 non-null  object \n",
      " 10  HighBlood           10000 non-null  object \n",
      " 11  Stroke              10000 non-null  object \n",
      " 12  Complication_risk   10000 non-null  object \n",
      " 13  Overweight          10000 non-null  object \n",
      " 14  Arthritis           10000 non-null  object \n",
      " 15  Diabetes            10000 non-null  object \n",
      " 16  Hyperlipidemia      10000 non-null  object \n",
      " 17  BackPain            10000 non-null  object \n",
      " 18  Anxiety             10000 non-null  object \n",
      " 19  Allergic_rhinitis   10000 non-null  object \n",
      " 20  Reflux_esophagitis  10000 non-null  object \n",
      " 21  Asthma              10000 non-null  object \n",
      " 22  Initial_days        10000 non-null  float64\n",
      "dtypes: float64(2), int64(5), object(16)\n",
      "memory usage: 1.8+ MB\n"
     ]
    }
   ],
   "source": [
    "#since outliers are expected, they are retained\n",
    "#drop the created columns\n",
    "#make sure only the columns we are interested in are present\n",
    "\n",
    "mrd_clean = mrd_clean.drop(['zscore_children', 'zscore_age', 'zscore_vitd_levels', 'zscore_doc_visits', 'zscore_fullmeals',\n",
    "                            'zscore_vitdsupp', 'zscore_initial'], axis = 1)\n",
    "mrd_clean.info()"
   ]
  },
  {
   "cell_type": "code",
   "execution_count": 19,
   "id": "480cc158-7fce-4ac3-b9ee-481fda870f58",
   "metadata": {},
   "outputs": [
    {
     "name": "stderr",
     "output_type": "stream",
     "text": [
      "/var/folders/_y/fjx1srl932v_lwvdp98jq5dr0000gn/T/ipykernel_10243/1877030173.py:8: FutureWarning: Downcasting behavior in `replace` is deprecated and will be removed in a future version. To retain the old behavior, explicitly call `result.infer_objects(copy=False)`. To opt-in to the future behavior, set `pd.set_option('future.no_silent_downcasting', True)`\n",
      "  mrd_clean[col] = mrd_clean[col].replace(bin_encoding)\n"
     ]
    }
   ],
   "source": [
    "#identify the columns that need to become binary\n",
    "#map yes values to 1 and no values to 0 for KNN model purposes\n",
    "\n",
    "yesno_cols = ['Soft_drink', 'HighBlood', 'Stroke', 'Overweight', 'Arthritis', 'Diabetes', 'Hyperlipidemia', 'BackPain', 'Anxiety',\n",
    "              'Allergic_rhinitis', 'Reflux_esophagitis', 'Asthma', 'ReAdmis']\n",
    "bin_encoding = {\"Yes\":1, \"No\":0}\n",
    "for col in yesno_cols:\n",
    "    mrd_clean[col] = mrd_clean[col].replace(bin_encoding)"
   ]
  },
  {
   "cell_type": "code",
   "execution_count": 20,
   "id": "7642f5b0-c426-4c9a-a008-d6f96a90c4f0",
   "metadata": {},
   "outputs": [
    {
     "name": "stdout",
     "output_type": "stream",
     "text": [
      "0       0\n",
      "1       0\n",
      "2       0\n",
      "3       0\n",
      "4       1\n",
      "       ..\n",
      "9995    0\n",
      "9996    0\n",
      "9997    1\n",
      "9998    0\n",
      "9999    0\n",
      "Name: Soft_drink, Length: 10000, dtype: int64\n"
     ]
    }
   ],
   "source": [
    "#check to make sure values were correctly replaced using one of the categorical variables\n",
    "\n",
    "print(mrd_clean['Soft_drink'])"
   ]
  },
  {
   "cell_type": "code",
   "execution_count": 21,
   "id": "3cd80955-0cf5-4053-b5c7-4cb7abfbdf45",
   "metadata": {},
   "outputs": [
    {
     "name": "stdout",
     "output_type": "stream",
     "text": [
      "0       2\n",
      "1       3\n",
      "2       2\n",
      "3       2\n",
      "4       1\n",
      "       ..\n",
      "9995    2\n",
      "9996    2\n",
      "9997    3\n",
      "9998    2\n",
      "9999    1\n",
      "Name: Complication_risk, Length: 10000, dtype: int64\n"
     ]
    }
   ],
   "source": [
    "#need to map the variable complication_risk since it also has non-numerical values\n",
    "#mapped low to 1, medium to 2, and high to 3\n",
    "#change the variable type to integer as new values will all be numerical\n",
    "#check to make sure the values were correctly replaced\n",
    "\n",
    "comp_risk_map = {'High':3, 'Medium':2, 'Low':1}\n",
    "mrd_clean['Complication_risk'] = mrd_clean['Complication_risk'].map(comp_risk_map)\n",
    "mrd_clean['Complication_risk'] = mrd_clean['Complication_risk'].astype(int)\n",
    "print(mrd_clean['Complication_risk'])"
   ]
  },
  {
   "cell_type": "code",
   "execution_count": 22,
   "id": "3bfc53c7-8e5e-4a4e-b5a6-0dedfa9fb94b",
   "metadata": {},
   "outputs": [
    {
     "name": "stdout",
     "output_type": "stream",
     "text": [
      "Index(['Children', 'Age', 'Gender', 'ReAdmis', 'VitD_levels', 'Doc_visits',\n",
      "       'Full_meals_eaten', 'vitD_supp', 'Soft_drink', 'Initial_admin',\n",
      "       'HighBlood', 'Stroke', 'Complication_risk', 'Overweight', 'Arthritis',\n",
      "       'Diabetes', 'Hyperlipidemia', 'BackPain', 'Anxiety',\n",
      "       'Allergic_rhinitis', 'Reflux_esophagitis', 'Asthma', 'Initial_days'],\n",
      "      dtype='object')\n"
     ]
    }
   ],
   "source": [
    "#print columns to make sure we have all of the variable we want for our model\n",
    "\n",
    "print(mrd_clean.columns)"
   ]
  },
  {
   "cell_type": "code",
   "execution_count": 23,
   "id": "a66c3460-4a4d-4e04-b999-8dcbf6f98cae",
   "metadata": {},
   "outputs": [
    {
     "name": "stdout",
     "output_type": "stream",
     "text": [
      "Children                int64\n",
      "Age                     int64\n",
      "Gender                 object\n",
      "ReAdmis                 int64\n",
      "VitD_levels           float64\n",
      "Doc_visits              int64\n",
      "Full_meals_eaten        int64\n",
      "vitD_supp               int64\n",
      "Soft_drink              int64\n",
      "Initial_admin          object\n",
      "HighBlood               int64\n",
      "Stroke                  int64\n",
      "Complication_risk       int64\n",
      "Overweight              int64\n",
      "Arthritis               int64\n",
      "Diabetes                int64\n",
      "Hyperlipidemia          int64\n",
      "BackPain                int64\n",
      "Anxiety                 int64\n",
      "Allergic_rhinitis       int64\n",
      "Reflux_esophagitis      int64\n",
      "Asthma                  int64\n",
      "Initial_days          float64\n",
      "dtype: object\n"
     ]
    }
   ],
   "source": [
    "#check column types to identify which columns we need to one hot encode still\n",
    "\n",
    "print(mrd_clean.dtypes)"
   ]
  },
  {
   "cell_type": "code",
   "execution_count": 24,
   "id": "a8b494c3-5051-4fde-ba90-ebf0b344e1e5",
   "metadata": {},
   "outputs": [],
   "source": [
    "#two columns need to be one hot encoded\n",
    "#get_dummies used to complete this process\n",
    "#creates new columns for each value and uses 1 to indicate the value is present or 0 to indicate it is not\n",
    "#change the type of these columns to integer now that they are all numerical in nature\n",
    "\n",
    "cat_cols = ['Gender', 'Initial_admin']\n",
    "mrd_clean = pd.get_dummies(mrd_clean, columns = cat_cols, drop_first = False)\n",
    "mrd_clean = mrd_clean.astype(int)"
   ]
  },
  {
   "cell_type": "code",
   "execution_count": 25,
   "id": "30bfcb3f-9482-4e12-96b8-04aef05df8ac",
   "metadata": {},
   "outputs": [
    {
     "name": "stdout",
     "output_type": "stream",
     "text": [
      "<class 'pandas.core.frame.DataFrame'>\n",
      "RangeIndex: 10000 entries, 0 to 9999\n",
      "Data columns (total 27 columns):\n",
      " #   Column                               Non-Null Count  Dtype\n",
      "---  ------                               --------------  -----\n",
      " 0   Children                             10000 non-null  int64\n",
      " 1   Age                                  10000 non-null  int64\n",
      " 2   ReAdmis                              10000 non-null  int64\n",
      " 3   VitD_levels                          10000 non-null  int64\n",
      " 4   Doc_visits                           10000 non-null  int64\n",
      " 5   Full_meals_eaten                     10000 non-null  int64\n",
      " 6   vitD_supp                            10000 non-null  int64\n",
      " 7   Soft_drink                           10000 non-null  int64\n",
      " 8   HighBlood                            10000 non-null  int64\n",
      " 9   Stroke                               10000 non-null  int64\n",
      " 10  Complication_risk                    10000 non-null  int64\n",
      " 11  Overweight                           10000 non-null  int64\n",
      " 12  Arthritis                            10000 non-null  int64\n",
      " 13  Diabetes                             10000 non-null  int64\n",
      " 14  Hyperlipidemia                       10000 non-null  int64\n",
      " 15  BackPain                             10000 non-null  int64\n",
      " 16  Anxiety                              10000 non-null  int64\n",
      " 17  Allergic_rhinitis                    10000 non-null  int64\n",
      " 18  Reflux_esophagitis                   10000 non-null  int64\n",
      " 19  Asthma                               10000 non-null  int64\n",
      " 20  Initial_days                         10000 non-null  int64\n",
      " 21  Gender_Female                        10000 non-null  int64\n",
      " 22  Gender_Male                          10000 non-null  int64\n",
      " 23  Gender_Nonbinary                     10000 non-null  int64\n",
      " 24  Initial_admin_Elective Admission     10000 non-null  int64\n",
      " 25  Initial_admin_Emergency Admission    10000 non-null  int64\n",
      " 26  Initial_admin_Observation Admission  10000 non-null  int64\n",
      "dtypes: int64(27)\n",
      "memory usage: 2.1 MB\n",
      "None\n"
     ]
    }
   ],
   "source": [
    "#as stated above, new columns were created during one hot encoding\n",
    "#now we have each gender and each type of admission by themselves\n",
    "\n",
    "print(mrd_clean.info())"
   ]
  },
  {
   "cell_type": "code",
   "execution_count": 26,
   "id": "919ffd54-76fe-48f5-a009-223203be4af4",
   "metadata": {},
   "outputs": [],
   "source": [
    "#now that we have all of our variables for the model correctly identified and properly encoded, we need to scale continuous variables\n",
    "#import standardscaler for this process\n",
    "\n",
    "from sklearn.preprocessing import StandardScaler\n",
    "\n",
    "cont_cols = ['Children', 'Age', 'VitD_levels', 'Doc_visits', 'Full_meals_eaten', 'vitD_supp', 'Initial_days']\n",
    "scaler = StandardScaler()\n",
    "mrd_clean[cont_cols] = scaler.fit_transform(mrd_clean[cont_cols])"
   ]
  },
  {
   "cell_type": "code",
   "execution_count": 27,
   "id": "a31f6d9e-d61a-44ae-afb5-5e61667d39f0",
   "metadata": {},
   "outputs": [
    {
     "name": "stdout",
     "output_type": "stream",
     "text": [
      "<class 'pandas.core.frame.DataFrame'>\n",
      "RangeIndex: 10000 entries, 0 to 9999\n",
      "Data columns (total 27 columns):\n",
      " #   Column                               Non-Null Count  Dtype  \n",
      "---  ------                               --------------  -----  \n",
      " 0   Children                             10000 non-null  float64\n",
      " 1   Age                                  10000 non-null  float64\n",
      " 2   ReAdmis                              10000 non-null  int64  \n",
      " 3   VitD_levels                          10000 non-null  float64\n",
      " 4   Doc_visits                           10000 non-null  float64\n",
      " 5   Full_meals_eaten                     10000 non-null  float64\n",
      " 6   vitD_supp                            10000 non-null  float64\n",
      " 7   Soft_drink                           10000 non-null  int64  \n",
      " 8   HighBlood                            10000 non-null  int64  \n",
      " 9   Stroke                               10000 non-null  int64  \n",
      " 10  Complication_risk                    10000 non-null  int64  \n",
      " 11  Overweight                           10000 non-null  int64  \n",
      " 12  Arthritis                            10000 non-null  int64  \n",
      " 13  Diabetes                             10000 non-null  int64  \n",
      " 14  Hyperlipidemia                       10000 non-null  int64  \n",
      " 15  BackPain                             10000 non-null  int64  \n",
      " 16  Anxiety                              10000 non-null  int64  \n",
      " 17  Allergic_rhinitis                    10000 non-null  int64  \n",
      " 18  Reflux_esophagitis                   10000 non-null  int64  \n",
      " 19  Asthma                               10000 non-null  int64  \n",
      " 20  Initial_days                         10000 non-null  float64\n",
      " 21  Gender_Female                        10000 non-null  int64  \n",
      " 22  Gender_Male                          10000 non-null  int64  \n",
      " 23  Gender_Nonbinary                     10000 non-null  int64  \n",
      " 24  Initial_admin_Elective Admission     10000 non-null  int64  \n",
      " 25  Initial_admin_Emergency Admission    10000 non-null  int64  \n",
      " 26  Initial_admin_Observation Admission  10000 non-null  int64  \n",
      "dtypes: float64(7), int64(20)\n",
      "memory usage: 2.1 MB\n",
      "None\n"
     ]
    }
   ],
   "source": [
    "#verify we still have all our variables after scaling data\n",
    "\n",
    "print(mrd_clean.info())"
   ]
  },
  {
   "cell_type": "code",
   "execution_count": 28,
   "id": "177c3690-bee8-4e12-8bae-a68572a237b8",
   "metadata": {},
   "outputs": [],
   "source": [
    "#now renaming columns for ease of use for the model\n",
    "\n",
    "pythonic_cols = ['children', 'age', 'readmis', 'vitd_levels', 'doc_visits', 'full_meals', 'vitd_supp', 'soft_drink',\n",
    "                 'highbp', 'stroke', 'comp_risk', 'overweight', 'arthritis', 'diabetes', 'hyperlipidemia', 'backpain',\n",
    "                 'anxiety', 'allergic_rhinitis', 'reflux_esophagitis', 'asthma', 'initial_days', 'gender_f',\n",
    "                 'gender_m', 'gender_n', 'initial_admin_ela', 'initial_admin_ema', 'initial_admin_oa']\n",
    "mrd_clean = mrd_clean.set_axis(pythonic_cols, axis = 1)"
   ]
  },
  {
   "cell_type": "code",
   "execution_count": 29,
   "id": "ad6cc1ee-aaa3-40c3-b2db-0d6aa557c7dd",
   "metadata": {},
   "outputs": [
    {
     "name": "stdout",
     "output_type": "stream",
     "text": [
      "   children       age  readmis  vitd_levels  doc_visits  full_meals  \\\n",
      "0 -0.507129 -0.024795        0     0.754215    0.944647   -0.993387   \n",
      "1  0.417277 -0.121706        0     0.264083   -0.967981    0.990609   \n",
      "2  0.417277 -0.024795        0     0.264083   -0.967981   -0.001389   \n",
      "3 -0.969332  1.186592        0    -0.716180   -0.967981   -0.001389   \n",
      "4 -0.507129 -1.526914        0    -0.226049   -0.011667   -0.993387   \n",
      "\n",
      "   vitd_supp  soft_drink  highbp  stroke  ...  allergic_rhinitis  \\\n",
      "0  -0.634713           0       1       0  ...                  1   \n",
      "1   0.956445           0       1       0  ...                  0   \n",
      "2  -0.634713           0       1       0  ...                  0   \n",
      "3  -0.634713           0       0       1  ...                  0   \n",
      "4   2.547602           1       0       0  ...                  1   \n",
      "\n",
      "   reflux_esophagitis  asthma  initial_days  gender_f  gender_m  gender_n  \\\n",
      "0                   0       1     -0.910864         0         1         0   \n",
      "1                   1       0     -0.720752         1         0         0   \n",
      "2                   0       0     -1.138998         1         0         0   \n",
      "3                   1       1     -1.253065         0         1         0   \n",
      "4                   0       0     -1.253065         1         0         0   \n",
      "\n",
      "   initial_admin_ela  initial_admin_ema  initial_admin_oa  \n",
      "0                  0                  1                 0  \n",
      "1                  0                  1                 0  \n",
      "2                  1                  0                 0  \n",
      "3                  1                  0                 0  \n",
      "4                  1                  0                 0  \n",
      "\n",
      "[5 rows x 27 columns]\n"
     ]
    }
   ],
   "source": [
    "#once agian make sure all variables are as they should be to start the KNN process\n",
    "#use head function to get first few values to verify each variable is ready\n",
    "\n",
    "print(mrd_clean.head())"
   ]
  },
  {
   "cell_type": "code",
   "execution_count": 30,
   "id": "a468cc5f-3103-4b07-b1d9-c933a6582ce8",
   "metadata": {},
   "outputs": [],
   "source": [
    "#define our X and y\n",
    "#our depdendent variable is readmis, so X is all of the predictor variables besides readmis\n",
    "#our y is the dependent variable readmis\n",
    "\n",
    "df_X = mrd_clean.drop(['readmis'], axis = 1).copy()\n",
    "df_y = mrd_clean['readmis'].copy()"
   ]
  },
  {
   "cell_type": "code",
   "execution_count": 31,
   "id": "086036e6-0eef-4f30-b061-ea5e68135cc1",
   "metadata": {},
   "outputs": [
    {
     "data": {
      "text/html": [
       "<div>\n",
       "<style scoped>\n",
       "    .dataframe tbody tr th:only-of-type {\n",
       "        vertical-align: middle;\n",
       "    }\n",
       "\n",
       "    .dataframe tbody tr th {\n",
       "        vertical-align: top;\n",
       "    }\n",
       "\n",
       "    .dataframe thead th {\n",
       "        text-align: right;\n",
       "    }\n",
       "</style>\n",
       "<table border=\"1\" class=\"dataframe\">\n",
       "  <thead>\n",
       "    <tr style=\"text-align: right;\">\n",
       "      <th></th>\n",
       "      <th>feature</th>\n",
       "      <th>p_value</th>\n",
       "    </tr>\n",
       "  </thead>\n",
       "  <tbody>\n",
       "    <tr>\n",
       "      <th>19</th>\n",
       "      <td>initial_days</td>\n",
       "      <td>0.000000</td>\n",
       "    </tr>\n",
       "    <tr>\n",
       "      <th>0</th>\n",
       "      <td>children</td>\n",
       "      <td>0.018613</td>\n",
       "    </tr>\n",
       "    <tr>\n",
       "      <th>24</th>\n",
       "      <td>initial_admin_ema</td>\n",
       "      <td>0.048766</td>\n",
       "    </tr>\n",
       "  </tbody>\n",
       "</table>\n",
       "</div>"
      ],
      "text/plain": [
       "              feature   p_value\n",
       "19       initial_days  0.000000\n",
       "0            children  0.018613\n",
       "24  initial_admin_ema  0.048766"
      ]
     },
     "execution_count": 31,
     "metadata": {},
     "output_type": "execute_result"
    }
   ],
   "source": [
    "#import selectkbest and f_classif to find our most important predictors\n",
    "#using 0.05 threshold, we can find which features have statistical significance for our model\n",
    "#these predictors will be retained for our model\n",
    "\n",
    "from sklearn.feature_selection import SelectKBest, f_classif\n",
    "\n",
    "feat_select = SelectKBest(f_classif, k = 'all')\n",
    "feat_select.fit_transform(df_X, df_y)\n",
    "feat_pvals = pd.DataFrame({'feature':df_X.columns, 'p_value':feat_select.pvalues_}).sort_values('p_value')\n",
    "feat_pvals[feat_pvals['p_value']<0.05]"
   ]
  },
  {
   "cell_type": "code",
   "execution_count": 32,
   "id": "c06e7e01-4888-4237-b5da-6c216d9566a3",
   "metadata": {},
   "outputs": [],
   "source": [
    "#check significant variables for multicollinearity\n",
    "#import VIF to check\n",
    "\n",
    "from statsmodels.stats.outliers_influence import variance_inflation_factor\n",
    "\n",
    "X = mrd_clean[['initial_days', 'children', 'initial_admin_ema']]\n",
    "vif_mrd = pd.DataFrame()\n",
    "vif_mrd[\"feature\"] = X.columns\n",
    "vif_mrd[\"VIF\"] = [variance_inflation_factor(X.values, i)\n",
    "    for i in range(len(X.columns))]"
   ]
  },
  {
   "cell_type": "code",
   "execution_count": 33,
   "id": "eda0cf6d-d34f-41f2-85fe-d0438c81d549",
   "metadata": {},
   "outputs": [
    {
     "name": "stdout",
     "output_type": "stream",
     "text": [
      "             feature       VIF\n",
      "0       initial_days  1.000573\n",
      "1           children  1.000551\n",
      "2  initial_admin_ema  1.000108\n"
     ]
    }
   ],
   "source": [
    "#print the results\n",
    "#all VIF values are < 5, so they are retained and used for the model\n",
    "\n",
    "print(vif_mrd)"
   ]
  },
  {
   "cell_type": "code",
   "execution_count": 34,
   "id": "bb85f287-599d-42f0-86cc-a7c64e1cf8c7",
   "metadata": {},
   "outputs": [],
   "source": [
    "#export our cleaned and ready to use data to a csv file\n",
    "\n",
    "mrd_clean.to_csv('med_task1.csv', index = False)"
   ]
  },
  {
   "cell_type": "code",
   "execution_count": 35,
   "id": "da1fa689-a665-4258-a38f-c981d5155609",
   "metadata": {},
   "outputs": [],
   "source": [
    "#now we can create our model\n",
    "#import train_test_split\n",
    "#X is the same set we defined earlier, the predictor variables\n",
    "#y is the same, our dependent variable\n",
    "#split the data using 70/30 split\n",
    "#use random state = 42 for reproducibility\n",
    "\n",
    "from sklearn.model_selection import train_test_split\n",
    "\n",
    "X = df_X\n",
    "y = df_y\n",
    "\n",
    "X_train, X_test, y_train, y_test = train_test_split(X, y, test_size = 0.3, random_state = 42, stratify = y)"
   ]
  },
  {
   "cell_type": "code",
   "execution_count": 36,
   "id": "040594a6-f1f0-4006-8c0a-e7c32d418842",
   "metadata": {},
   "outputs": [],
   "source": [
    "#output the training and testing sets to their own csv files for submission\n",
    "\n",
    "pd.DataFrame(X_train, y_train).to_csv('train_set.csv', index = False)\n",
    "pd.DataFrame(X_test, y_test).to_csv('test_set.csv', index = False)"
   ]
  },
  {
   "cell_type": "code",
   "execution_count": 37,
   "id": "f79f66df-67be-4d17-9f91-9b435985c56e",
   "metadata": {},
   "outputs": [
    {
     "data": {
      "text/plain": [
       "{'n_neighbors': 30}"
      ]
     },
     "execution_count": 37,
     "metadata": {},
     "output_type": "execute_result"
    }
   ],
   "source": [
    "#import numpy\n",
    "#import KNeighborsClassifier\n",
    "#import GridSearchCV for k selection purposes\n",
    "#run GridSearchCV to find our optimal k value\n",
    "#print the best parameter\n",
    "\n",
    "import numpy as np\n",
    "from sklearn.neighbors import KNeighborsClassifier\n",
    "from sklearn.model_selection import GridSearchCV\n",
    "\n",
    "param_grid = {'n_neighbors': np.arange(1,50)}\n",
    "knn = KNeighborsClassifier()\n",
    "knn_cv = GridSearchCV(knn, param_grid, cv=5)\n",
    "knn_cv.fit(X_train, y_train)\n",
    "knn_cv.best_params_"
   ]
  },
  {
   "cell_type": "code",
   "execution_count": 38,
   "id": "862ac9d1-27cf-454a-a034-8d3eafd3f752",
   "metadata": {},
   "outputs": [
    {
     "data": {
      "text/plain": [
       "0.9157142857142857"
      ]
     },
     "execution_count": 38,
     "metadata": {},
     "output_type": "execute_result"
    }
   ],
   "source": [
    "#our optimal k is 30\n",
    "#find the best accuracy score of this k\n",
    "\n",
    "knn_cv.best_score_"
   ]
  },
  {
   "cell_type": "code",
   "execution_count": 39,
   "id": "705ecb45-6ab9-4690-ba7f-4161789c2d92",
   "metadata": {},
   "outputs": [
    {
     "data": {
      "text/html": [
       "<style>#sk-container-id-1 {\n",
       "  /* Definition of color scheme common for light and dark mode */\n",
       "  --sklearn-color-text: black;\n",
       "  --sklearn-color-line: gray;\n",
       "  /* Definition of color scheme for unfitted estimators */\n",
       "  --sklearn-color-unfitted-level-0: #fff5e6;\n",
       "  --sklearn-color-unfitted-level-1: #f6e4d2;\n",
       "  --sklearn-color-unfitted-level-2: #ffe0b3;\n",
       "  --sklearn-color-unfitted-level-3: chocolate;\n",
       "  /* Definition of color scheme for fitted estimators */\n",
       "  --sklearn-color-fitted-level-0: #f0f8ff;\n",
       "  --sklearn-color-fitted-level-1: #d4ebff;\n",
       "  --sklearn-color-fitted-level-2: #b3dbfd;\n",
       "  --sklearn-color-fitted-level-3: cornflowerblue;\n",
       "\n",
       "  /* Specific color for light theme */\n",
       "  --sklearn-color-text-on-default-background: var(--sg-text-color, var(--theme-code-foreground, var(--jp-content-font-color1, black)));\n",
       "  --sklearn-color-background: var(--sg-background-color, var(--theme-background, var(--jp-layout-color0, white)));\n",
       "  --sklearn-color-border-box: var(--sg-text-color, var(--theme-code-foreground, var(--jp-content-font-color1, black)));\n",
       "  --sklearn-color-icon: #696969;\n",
       "\n",
       "  @media (prefers-color-scheme: dark) {\n",
       "    /* Redefinition of color scheme for dark theme */\n",
       "    --sklearn-color-text-on-default-background: var(--sg-text-color, var(--theme-code-foreground, var(--jp-content-font-color1, white)));\n",
       "    --sklearn-color-background: var(--sg-background-color, var(--theme-background, var(--jp-layout-color0, #111)));\n",
       "    --sklearn-color-border-box: var(--sg-text-color, var(--theme-code-foreground, var(--jp-content-font-color1, white)));\n",
       "    --sklearn-color-icon: #878787;\n",
       "  }\n",
       "}\n",
       "\n",
       "#sk-container-id-1 {\n",
       "  color: var(--sklearn-color-text);\n",
       "}\n",
       "\n",
       "#sk-container-id-1 pre {\n",
       "  padding: 0;\n",
       "}\n",
       "\n",
       "#sk-container-id-1 input.sk-hidden--visually {\n",
       "  border: 0;\n",
       "  clip: rect(1px 1px 1px 1px);\n",
       "  clip: rect(1px, 1px, 1px, 1px);\n",
       "  height: 1px;\n",
       "  margin: -1px;\n",
       "  overflow: hidden;\n",
       "  padding: 0;\n",
       "  position: absolute;\n",
       "  width: 1px;\n",
       "}\n",
       "\n",
       "#sk-container-id-1 div.sk-dashed-wrapped {\n",
       "  border: 1px dashed var(--sklearn-color-line);\n",
       "  margin: 0 0.4em 0.5em 0.4em;\n",
       "  box-sizing: border-box;\n",
       "  padding-bottom: 0.4em;\n",
       "  background-color: var(--sklearn-color-background);\n",
       "}\n",
       "\n",
       "#sk-container-id-1 div.sk-container {\n",
       "  /* jupyter's `normalize.less` sets `[hidden] { display: none; }`\n",
       "     but bootstrap.min.css set `[hidden] { display: none !important; }`\n",
       "     so we also need the `!important` here to be able to override the\n",
       "     default hidden behavior on the sphinx rendered scikit-learn.org.\n",
       "     See: https://github.com/scikit-learn/scikit-learn/issues/21755 */\n",
       "  display: inline-block !important;\n",
       "  position: relative;\n",
       "}\n",
       "\n",
       "#sk-container-id-1 div.sk-text-repr-fallback {\n",
       "  display: none;\n",
       "}\n",
       "\n",
       "div.sk-parallel-item,\n",
       "div.sk-serial,\n",
       "div.sk-item {\n",
       "  /* draw centered vertical line to link estimators */\n",
       "  background-image: linear-gradient(var(--sklearn-color-text-on-default-background), var(--sklearn-color-text-on-default-background));\n",
       "  background-size: 2px 100%;\n",
       "  background-repeat: no-repeat;\n",
       "  background-position: center center;\n",
       "}\n",
       "\n",
       "/* Parallel-specific style estimator block */\n",
       "\n",
       "#sk-container-id-1 div.sk-parallel-item::after {\n",
       "  content: \"\";\n",
       "  width: 100%;\n",
       "  border-bottom: 2px solid var(--sklearn-color-text-on-default-background);\n",
       "  flex-grow: 1;\n",
       "}\n",
       "\n",
       "#sk-container-id-1 div.sk-parallel {\n",
       "  display: flex;\n",
       "  align-items: stretch;\n",
       "  justify-content: center;\n",
       "  background-color: var(--sklearn-color-background);\n",
       "  position: relative;\n",
       "}\n",
       "\n",
       "#sk-container-id-1 div.sk-parallel-item {\n",
       "  display: flex;\n",
       "  flex-direction: column;\n",
       "}\n",
       "\n",
       "#sk-container-id-1 div.sk-parallel-item:first-child::after {\n",
       "  align-self: flex-end;\n",
       "  width: 50%;\n",
       "}\n",
       "\n",
       "#sk-container-id-1 div.sk-parallel-item:last-child::after {\n",
       "  align-self: flex-start;\n",
       "  width: 50%;\n",
       "}\n",
       "\n",
       "#sk-container-id-1 div.sk-parallel-item:only-child::after {\n",
       "  width: 0;\n",
       "}\n",
       "\n",
       "/* Serial-specific style estimator block */\n",
       "\n",
       "#sk-container-id-1 div.sk-serial {\n",
       "  display: flex;\n",
       "  flex-direction: column;\n",
       "  align-items: center;\n",
       "  background-color: var(--sklearn-color-background);\n",
       "  padding-right: 1em;\n",
       "  padding-left: 1em;\n",
       "}\n",
       "\n",
       "\n",
       "/* Toggleable style: style used for estimator/Pipeline/ColumnTransformer box that is\n",
       "clickable and can be expanded/collapsed.\n",
       "- Pipeline and ColumnTransformer use this feature and define the default style\n",
       "- Estimators will overwrite some part of the style using the `sk-estimator` class\n",
       "*/\n",
       "\n",
       "/* Pipeline and ColumnTransformer style (default) */\n",
       "\n",
       "#sk-container-id-1 div.sk-toggleable {\n",
       "  /* Default theme specific background. It is overwritten whether we have a\n",
       "  specific estimator or a Pipeline/ColumnTransformer */\n",
       "  background-color: var(--sklearn-color-background);\n",
       "}\n",
       "\n",
       "/* Toggleable label */\n",
       "#sk-container-id-1 label.sk-toggleable__label {\n",
       "  cursor: pointer;\n",
       "  display: block;\n",
       "  width: 100%;\n",
       "  margin-bottom: 0;\n",
       "  padding: 0.5em;\n",
       "  box-sizing: border-box;\n",
       "  text-align: center;\n",
       "}\n",
       "\n",
       "#sk-container-id-1 label.sk-toggleable__label-arrow:before {\n",
       "  /* Arrow on the left of the label */\n",
       "  content: \"▸\";\n",
       "  float: left;\n",
       "  margin-right: 0.25em;\n",
       "  color: var(--sklearn-color-icon);\n",
       "}\n",
       "\n",
       "#sk-container-id-1 label.sk-toggleable__label-arrow:hover:before {\n",
       "  color: var(--sklearn-color-text);\n",
       "}\n",
       "\n",
       "/* Toggleable content - dropdown */\n",
       "\n",
       "#sk-container-id-1 div.sk-toggleable__content {\n",
       "  max-height: 0;\n",
       "  max-width: 0;\n",
       "  overflow: hidden;\n",
       "  text-align: left;\n",
       "  /* unfitted */\n",
       "  background-color: var(--sklearn-color-unfitted-level-0);\n",
       "}\n",
       "\n",
       "#sk-container-id-1 div.sk-toggleable__content.fitted {\n",
       "  /* fitted */\n",
       "  background-color: var(--sklearn-color-fitted-level-0);\n",
       "}\n",
       "\n",
       "#sk-container-id-1 div.sk-toggleable__content pre {\n",
       "  margin: 0.2em;\n",
       "  border-radius: 0.25em;\n",
       "  color: var(--sklearn-color-text);\n",
       "  /* unfitted */\n",
       "  background-color: var(--sklearn-color-unfitted-level-0);\n",
       "}\n",
       "\n",
       "#sk-container-id-1 div.sk-toggleable__content.fitted pre {\n",
       "  /* unfitted */\n",
       "  background-color: var(--sklearn-color-fitted-level-0);\n",
       "}\n",
       "\n",
       "#sk-container-id-1 input.sk-toggleable__control:checked~div.sk-toggleable__content {\n",
       "  /* Expand drop-down */\n",
       "  max-height: 200px;\n",
       "  max-width: 100%;\n",
       "  overflow: auto;\n",
       "}\n",
       "\n",
       "#sk-container-id-1 input.sk-toggleable__control:checked~label.sk-toggleable__label-arrow:before {\n",
       "  content: \"▾\";\n",
       "}\n",
       "\n",
       "/* Pipeline/ColumnTransformer-specific style */\n",
       "\n",
       "#sk-container-id-1 div.sk-label input.sk-toggleable__control:checked~label.sk-toggleable__label {\n",
       "  color: var(--sklearn-color-text);\n",
       "  background-color: var(--sklearn-color-unfitted-level-2);\n",
       "}\n",
       "\n",
       "#sk-container-id-1 div.sk-label.fitted input.sk-toggleable__control:checked~label.sk-toggleable__label {\n",
       "  background-color: var(--sklearn-color-fitted-level-2);\n",
       "}\n",
       "\n",
       "/* Estimator-specific style */\n",
       "\n",
       "/* Colorize estimator box */\n",
       "#sk-container-id-1 div.sk-estimator input.sk-toggleable__control:checked~label.sk-toggleable__label {\n",
       "  /* unfitted */\n",
       "  background-color: var(--sklearn-color-unfitted-level-2);\n",
       "}\n",
       "\n",
       "#sk-container-id-1 div.sk-estimator.fitted input.sk-toggleable__control:checked~label.sk-toggleable__label {\n",
       "  /* fitted */\n",
       "  background-color: var(--sklearn-color-fitted-level-2);\n",
       "}\n",
       "\n",
       "#sk-container-id-1 div.sk-label label.sk-toggleable__label,\n",
       "#sk-container-id-1 div.sk-label label {\n",
       "  /* The background is the default theme color */\n",
       "  color: var(--sklearn-color-text-on-default-background);\n",
       "}\n",
       "\n",
       "/* On hover, darken the color of the background */\n",
       "#sk-container-id-1 div.sk-label:hover label.sk-toggleable__label {\n",
       "  color: var(--sklearn-color-text);\n",
       "  background-color: var(--sklearn-color-unfitted-level-2);\n",
       "}\n",
       "\n",
       "/* Label box, darken color on hover, fitted */\n",
       "#sk-container-id-1 div.sk-label.fitted:hover label.sk-toggleable__label.fitted {\n",
       "  color: var(--sklearn-color-text);\n",
       "  background-color: var(--sklearn-color-fitted-level-2);\n",
       "}\n",
       "\n",
       "/* Estimator label */\n",
       "\n",
       "#sk-container-id-1 div.sk-label label {\n",
       "  font-family: monospace;\n",
       "  font-weight: bold;\n",
       "  display: inline-block;\n",
       "  line-height: 1.2em;\n",
       "}\n",
       "\n",
       "#sk-container-id-1 div.sk-label-container {\n",
       "  text-align: center;\n",
       "}\n",
       "\n",
       "/* Estimator-specific */\n",
       "#sk-container-id-1 div.sk-estimator {\n",
       "  font-family: monospace;\n",
       "  border: 1px dotted var(--sklearn-color-border-box);\n",
       "  border-radius: 0.25em;\n",
       "  box-sizing: border-box;\n",
       "  margin-bottom: 0.5em;\n",
       "  /* unfitted */\n",
       "  background-color: var(--sklearn-color-unfitted-level-0);\n",
       "}\n",
       "\n",
       "#sk-container-id-1 div.sk-estimator.fitted {\n",
       "  /* fitted */\n",
       "  background-color: var(--sklearn-color-fitted-level-0);\n",
       "}\n",
       "\n",
       "/* on hover */\n",
       "#sk-container-id-1 div.sk-estimator:hover {\n",
       "  /* unfitted */\n",
       "  background-color: var(--sklearn-color-unfitted-level-2);\n",
       "}\n",
       "\n",
       "#sk-container-id-1 div.sk-estimator.fitted:hover {\n",
       "  /* fitted */\n",
       "  background-color: var(--sklearn-color-fitted-level-2);\n",
       "}\n",
       "\n",
       "/* Specification for estimator info (e.g. \"i\" and \"?\") */\n",
       "\n",
       "/* Common style for \"i\" and \"?\" */\n",
       "\n",
       ".sk-estimator-doc-link,\n",
       "a:link.sk-estimator-doc-link,\n",
       "a:visited.sk-estimator-doc-link {\n",
       "  float: right;\n",
       "  font-size: smaller;\n",
       "  line-height: 1em;\n",
       "  font-family: monospace;\n",
       "  background-color: var(--sklearn-color-background);\n",
       "  border-radius: 1em;\n",
       "  height: 1em;\n",
       "  width: 1em;\n",
       "  text-decoration: none !important;\n",
       "  margin-left: 1ex;\n",
       "  /* unfitted */\n",
       "  border: var(--sklearn-color-unfitted-level-1) 1pt solid;\n",
       "  color: var(--sklearn-color-unfitted-level-1);\n",
       "}\n",
       "\n",
       ".sk-estimator-doc-link.fitted,\n",
       "a:link.sk-estimator-doc-link.fitted,\n",
       "a:visited.sk-estimator-doc-link.fitted {\n",
       "  /* fitted */\n",
       "  border: var(--sklearn-color-fitted-level-1) 1pt solid;\n",
       "  color: var(--sklearn-color-fitted-level-1);\n",
       "}\n",
       "\n",
       "/* On hover */\n",
       "div.sk-estimator:hover .sk-estimator-doc-link:hover,\n",
       ".sk-estimator-doc-link:hover,\n",
       "div.sk-label-container:hover .sk-estimator-doc-link:hover,\n",
       ".sk-estimator-doc-link:hover {\n",
       "  /* unfitted */\n",
       "  background-color: var(--sklearn-color-unfitted-level-3);\n",
       "  color: var(--sklearn-color-background);\n",
       "  text-decoration: none;\n",
       "}\n",
       "\n",
       "div.sk-estimator.fitted:hover .sk-estimator-doc-link.fitted:hover,\n",
       ".sk-estimator-doc-link.fitted:hover,\n",
       "div.sk-label-container:hover .sk-estimator-doc-link.fitted:hover,\n",
       ".sk-estimator-doc-link.fitted:hover {\n",
       "  /* fitted */\n",
       "  background-color: var(--sklearn-color-fitted-level-3);\n",
       "  color: var(--sklearn-color-background);\n",
       "  text-decoration: none;\n",
       "}\n",
       "\n",
       "/* Span, style for the box shown on hovering the info icon */\n",
       ".sk-estimator-doc-link span {\n",
       "  display: none;\n",
       "  z-index: 9999;\n",
       "  position: relative;\n",
       "  font-weight: normal;\n",
       "  right: .2ex;\n",
       "  padding: .5ex;\n",
       "  margin: .5ex;\n",
       "  width: min-content;\n",
       "  min-width: 20ex;\n",
       "  max-width: 50ex;\n",
       "  color: var(--sklearn-color-text);\n",
       "  box-shadow: 2pt 2pt 4pt #999;\n",
       "  /* unfitted */\n",
       "  background: var(--sklearn-color-unfitted-level-0);\n",
       "  border: .5pt solid var(--sklearn-color-unfitted-level-3);\n",
       "}\n",
       "\n",
       ".sk-estimator-doc-link.fitted span {\n",
       "  /* fitted */\n",
       "  background: var(--sklearn-color-fitted-level-0);\n",
       "  border: var(--sklearn-color-fitted-level-3);\n",
       "}\n",
       "\n",
       ".sk-estimator-doc-link:hover span {\n",
       "  display: block;\n",
       "}\n",
       "\n",
       "/* \"?\"-specific style due to the `<a>` HTML tag */\n",
       "\n",
       "#sk-container-id-1 a.estimator_doc_link {\n",
       "  float: right;\n",
       "  font-size: 1rem;\n",
       "  line-height: 1em;\n",
       "  font-family: monospace;\n",
       "  background-color: var(--sklearn-color-background);\n",
       "  border-radius: 1rem;\n",
       "  height: 1rem;\n",
       "  width: 1rem;\n",
       "  text-decoration: none;\n",
       "  /* unfitted */\n",
       "  color: var(--sklearn-color-unfitted-level-1);\n",
       "  border: var(--sklearn-color-unfitted-level-1) 1pt solid;\n",
       "}\n",
       "\n",
       "#sk-container-id-1 a.estimator_doc_link.fitted {\n",
       "  /* fitted */\n",
       "  border: var(--sklearn-color-fitted-level-1) 1pt solid;\n",
       "  color: var(--sklearn-color-fitted-level-1);\n",
       "}\n",
       "\n",
       "/* On hover */\n",
       "#sk-container-id-1 a.estimator_doc_link:hover {\n",
       "  /* unfitted */\n",
       "  background-color: var(--sklearn-color-unfitted-level-3);\n",
       "  color: var(--sklearn-color-background);\n",
       "  text-decoration: none;\n",
       "}\n",
       "\n",
       "#sk-container-id-1 a.estimator_doc_link.fitted:hover {\n",
       "  /* fitted */\n",
       "  background-color: var(--sklearn-color-fitted-level-3);\n",
       "}\n",
       "</style><div id=\"sk-container-id-1\" class=\"sk-top-container\"><div class=\"sk-text-repr-fallback\"><pre>KNeighborsClassifier(n_neighbors=30)</pre><b>In a Jupyter environment, please rerun this cell to show the HTML representation or trust the notebook. <br />On GitHub, the HTML representation is unable to render, please try loading this page with nbviewer.org.</b></div><div class=\"sk-container\" hidden><div class=\"sk-item\"><div class=\"sk-estimator fitted sk-toggleable\"><input class=\"sk-toggleable__control sk-hidden--visually\" id=\"sk-estimator-id-1\" type=\"checkbox\" checked><label for=\"sk-estimator-id-1\" class=\"sk-toggleable__label fitted sk-toggleable__label-arrow fitted\">&nbsp;&nbsp;KNeighborsClassifier<a class=\"sk-estimator-doc-link fitted\" rel=\"noreferrer\" target=\"_blank\" href=\"https://scikit-learn.org/1.4/modules/generated/sklearn.neighbors.KNeighborsClassifier.html\">?<span>Documentation for KNeighborsClassifier</span></a><span class=\"sk-estimator-doc-link fitted\">i<span>Fitted</span></span></label><div class=\"sk-toggleable__content fitted\"><pre>KNeighborsClassifier(n_neighbors=30)</pre></div> </div></div></div></div>"
      ],
      "text/plain": [
       "KNeighborsClassifier(n_neighbors=30)"
      ]
     },
     "execution_count": 39,
     "metadata": {},
     "output_type": "execute_result"
    }
   ],
   "source": [
    "#run KNN model using our identified parameter\n",
    "\n",
    "knn = KNeighborsClassifier(n_neighbors = 30)\n",
    "knn.fit(X_train, y_train)"
   ]
  },
  {
   "cell_type": "code",
   "execution_count": 40,
   "id": "3fda30f6-9f2e-4241-befe-c205f2009c26",
   "metadata": {},
   "outputs": [],
   "source": [
    "#import confusion_matrix to evaluate the KNN model performance\n",
    "\n",
    "from sklearn.metrics import confusion_matrix\n",
    "\n",
    "y_pred = knn.predict(X_test)\n",
    "final_matrix = confusion_matrix(y_test, y_pred)"
   ]
  },
  {
   "cell_type": "code",
   "execution_count": 41,
   "id": "9787cb5e-1fcd-4405-85c8-f6fd64ba6012",
   "metadata": {},
   "outputs": [
    {
     "name": "stdout",
     "output_type": "stream",
     "text": [
      "Accuracy of KNN classifier on train set: 0.92\n",
      "Accuracy of KNN classifier on test set: 0.91\n",
      "[[1635  264]\n",
      " [   3 1098]]\n"
     ]
    }
   ],
   "source": [
    "#give labels to find the accuracy of both the training and testing set\n",
    "#print the accuracies and confusion matrix\n",
    "\n",
    "print('Accuracy of KNN classifier on train set: {:.2f}'.format(knn.score(X_train, y_train)))\n",
    "print('Accuracy of KNN classifier on test set: {:.2f}'.format(knn.score(X_test, y_test)))\n",
    "print(final_matrix)"
   ]
  },
  {
   "cell_type": "code",
   "execution_count": 42,
   "id": "2391cfd8-1825-4761-b6b8-2ece84958364",
   "metadata": {},
   "outputs": [
    {
     "data": {
      "image/png": "[encoded data removed]",
      "text/plain": [
       "<Figure size 640x480 with 1 Axes>"
      ]
     },
     "metadata": {},
     "output_type": "display_data"
    }
   ],
   "source": [
    "#to evaluate performance another way, import roc_curve\n",
    "#import matplotlib to create roc visualization\n",
    "#label the graph and axes\n",
    "#show the curve vs the line y=x\n",
    "\n",
    "from sklearn.metrics import roc_curve\n",
    "import matplotlib.pyplot as plt\n",
    "\n",
    "y_pred_prob = knn.predict_proba(X_test)[:,1]\n",
    "fpr, tpr, thresholds = roc_curve(y_test, y_pred_prob)\n",
    "plt.plot([0,1], [0,1], 'k--')\n",
    "plt.plot(fpr, tpr)\n",
    "plt.xlabel('False Positive Rate')\n",
    "plt.ylabel('True Positive Rate')\n",
    "plt.title('ROC Curve for KNN')\n",
    "plt.show()"
   ]
  },
  {
   "cell_type": "code",
   "execution_count": 43,
   "id": "803a50a5-1651-4527-ad61-6a73587e0e90",
   "metadata": {},
   "outputs": [
    {
     "name": "stdout",
     "output_type": "stream",
     "text": [
      "Area Under the Curve (AUC) Score: 0.9796876696420842\n",
      "\n",
      "              precision    recall  f1-score   support\n",
      "\n",
      "           0       1.00      0.86      0.92      1899\n",
      "           1       0.81      1.00      0.89      1101\n",
      "\n",
      "    accuracy                           0.91      3000\n",
      "   macro avg       0.90      0.93      0.91      3000\n",
      "weighted avg       0.93      0.91      0.91      3000\n",
      "\n"
     ]
    }
   ],
   "source": [
    "#import package to calculate auc score\n",
    "#get classification report for our model\n",
    "\n",
    "from sklearn.metrics import roc_auc_score, classification_report\n",
    "\n",
    "print(f\"Area Under the Curve (AUC) Score: {roc_auc_score(y_test, y_pred_prob)}\\n\")\n",
    "print(classification_report(y_test, y_pred))"
   ]
  },
  {
   "cell_type": "code",
   "execution_count": null,
   "id": "67959f2b-3699-4792-ac24-4589e858f4f0",
   "metadata": {},
   "outputs": [],
   "source": []
  }
 ],
 "metadata": {
  "kernelspec": {
   "display_name": "Python 3 (ipykernel)",
   "language": "python",
   "name": "python3"
  },
  "language_info": {
   "codemirror_mode": {
    "name": "ipython",
    "version": 3
   },
   "file_extension": ".py",
   "mimetype": "text/x-python",
   "name": "python",
   "nbconvert_exporter": "python",
   "pygments_lexer": "ipython3",
   "version": "3.12.4"
  }
 },
 "nbformat": 4,
 "nbformat_minor": 5
}

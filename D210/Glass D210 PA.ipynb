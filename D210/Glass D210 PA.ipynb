{
 "cells": [
  {
   "cell_type": "code",
   "execution_count": 2,
   "id": "8b04c1ab-8786-4255-8b5b-38ba9fe3f868",
   "metadata": {},
   "outputs": [
    {
     "name": "stdout",
     "output_type": "stream",
     "text": [
      "<class 'pandas.core.frame.DataFrame'>\n",
      "RangeIndex: 10000 entries, 0 to 9999\n",
      "Data columns (total 50 columns):\n",
      " #   Column              Non-Null Count  Dtype  \n",
      "---  ------              --------------  -----  \n",
      " 0   CaseOrder           10000 non-null  int64  \n",
      " 1   Customer_id         10000 non-null  object \n",
      " 2   Interaction         10000 non-null  object \n",
      " 3   UID                 10000 non-null  object \n",
      " 4   City                10000 non-null  object \n",
      " 5   State               10000 non-null  object \n",
      " 6   County              10000 non-null  object \n",
      " 7   Zip                 10000 non-null  int64  \n",
      " 8   Lat                 10000 non-null  float64\n",
      " 9   Lng                 10000 non-null  float64\n",
      " 10  Population          10000 non-null  int64  \n",
      " 11  Area                10000 non-null  object \n",
      " 12  TimeZone            10000 non-null  object \n",
      " 13  Job                 10000 non-null  object \n",
      " 14  Children            10000 non-null  int64  \n",
      " 15  Age                 10000 non-null  int64  \n",
      " 16  Income              10000 non-null  float64\n",
      " 17  Marital             10000 non-null  object \n",
      " 18  Gender              10000 non-null  object \n",
      " 19  ReAdmis             10000 non-null  object \n",
      " 20  VitD_levels         10000 non-null  float64\n",
      " 21  Doc_visits          10000 non-null  int64  \n",
      " 22  Full_meals_eaten    10000 non-null  int64  \n",
      " 23  vitD_supp           10000 non-null  int64  \n",
      " 24  Soft_drink          10000 non-null  object \n",
      " 25  Initial_admin       10000 non-null  object \n",
      " 26  HighBlood           10000 non-null  object \n",
      " 27  Stroke              10000 non-null  object \n",
      " 28  Complication_risk   10000 non-null  object \n",
      " 29  Overweight          10000 non-null  object \n",
      " 30  Arthritis           10000 non-null  object \n",
      " 31  Diabetes            10000 non-null  object \n",
      " 32  Hyperlipidemia      10000 non-null  object \n",
      " 33  BackPain            10000 non-null  object \n",
      " 34  Anxiety             10000 non-null  object \n",
      " 35  Allergic_rhinitis   10000 non-null  object \n",
      " 36  Reflux_esophagitis  10000 non-null  object \n",
      " 37  Asthma              10000 non-null  object \n",
      " 38  Services            10000 non-null  object \n",
      " 39  Initial_days        10000 non-null  float64\n",
      " 40  TotalCharge         10000 non-null  float64\n",
      " 41  Additional_charges  10000 non-null  float64\n",
      " 42  Item1               10000 non-null  int64  \n",
      " 43  Item2               10000 non-null  int64  \n",
      " 44  Item3               10000 non-null  int64  \n",
      " 45  Item4               10000 non-null  int64  \n",
      " 46  Item5               10000 non-null  int64  \n",
      " 47  Item6               10000 non-null  int64  \n",
      " 48  Item7               10000 non-null  int64  \n",
      " 49  Item8               10000 non-null  int64  \n",
      "dtypes: float64(7), int64(16), object(27)\n",
      "memory usage: 3.8+ MB\n"
     ]
    }
   ],
   "source": [
    "import pandas as pd\n",
    "\n",
    "wgu_df = pd.read_csv('medical_clean.csv')\n",
    "wgu_df.info()"
   ]
  },
  {
   "cell_type": "code",
   "execution_count": 4,
   "id": "4d0d5a7f-f52d-4eba-bbe7-fb5bb72391e8",
   "metadata": {},
   "outputs": [
    {
     "name": "stdout",
     "output_type": "stream",
     "text": [
      "<class 'pandas.core.frame.DataFrame'>\n",
      "RangeIndex: 10000 entries, 0 to 9999\n",
      "Data columns (total 9 columns):\n",
      " #   Column        Non-Null Count  Dtype  \n",
      "---  ------        --------------  -----  \n",
      " 0   Children      10000 non-null  int64  \n",
      " 1   Age           10000 non-null  int64  \n",
      " 2   Income        10000 non-null  float64\n",
      " 3   Gender        10000 non-null  object \n",
      " 4   ReAdmis       10000 non-null  object \n",
      " 5   Initial_days  10000 non-null  float64\n",
      " 6   HighBlood     10000 non-null  object \n",
      " 7   Diabetes      10000 non-null  object \n",
      " 8   Asthma        10000 non-null  object \n",
      "dtypes: float64(2), int64(2), object(5)\n",
      "memory usage: 703.3+ KB\n"
     ]
    }
   ],
   "source": [
    "wgu_df = wgu_df[[\"Children\", \"Age\", \"Income\", \"Gender\", \"ReAdmis\", \"Initial_days\", \"HighBlood\", \"Diabetes\", \"Asthma\"]]\n",
    "wgu_df.info()"
   ]
  },
  {
   "cell_type": "code",
   "execution_count": 8,
   "id": "8ccb62e0-0325-4a66-9471-bb415d476147",
   "metadata": {},
   "outputs": [],
   "source": [
    "wgu_df[\"Source\"] = \"WGU\""
   ]
  },
  {
   "cell_type": "code",
   "execution_count": 10,
   "id": "3b790cff-269b-44f4-bd66-189be8484b93",
   "metadata": {},
   "outputs": [
    {
     "name": "stdout",
     "output_type": "stream",
     "text": [
      "<class 'pandas.core.frame.DataFrame'>\n",
      "RangeIndex: 1000 entries, 0 to 999\n",
      "Data columns (total 17 columns):\n",
      " #   Column                   Non-Null Count  Dtype  \n",
      "---  ------                   --------------  -----  \n",
      " 0   patient_id               1000 non-null   int64  \n",
      " 1   admission_date           1000 non-null   object \n",
      " 2   num_diagnoses            1000 non-null   int64  \n",
      " 3   num_procedures           1000 non-null   int64  \n",
      " 4   num_external_injuries    1000 non-null   int64  \n",
      " 5   length_of_stay           1000 non-null   int64  \n",
      " 6   median_household_income  1000 non-null   float64\n",
      " 7   insurance_type           1000 non-null   object \n",
      " 8   age                      1000 non-null   int64  \n",
      " 9   gender                   1000 non-null   object \n",
      " 10  readmitted               1000 non-null   int64  \n",
      " 11  diagnoses                1000 non-null   object \n",
      " 12  external_injuries        1000 non-null   object \n",
      " 13  home                     1000 non-null   object \n",
      " 14  facility                 1000 non-null   object \n",
      " 15  homeless                 1000 non-null   object \n",
      " 16  discharge_date           1000 non-null   object \n",
      "dtypes: float64(1), int64(7), object(9)\n",
      "memory usage: 132.9+ KB\n"
     ]
    }
   ],
   "source": [
    "rad_df = pd.read_csv('readmission_data (1).csv')\n",
    "rad_df.info()"
   ]
  },
  {
   "cell_type": "code",
   "execution_count": 12,
   "id": "dc3ca9bb-4693-437b-bdb6-51f6f57d3297",
   "metadata": {},
   "outputs": [
    {
     "name": "stdout",
     "output_type": "stream",
     "text": [
      "<class 'pandas.core.frame.DataFrame'>\n",
      "RangeIndex: 1000 entries, 0 to 999\n",
      "Data columns (total 7 columns):\n",
      " #   Column                   Non-Null Count  Dtype  \n",
      "---  ------                   --------------  -----  \n",
      " 0   length_of_stay           1000 non-null   int64  \n",
      " 1   median_household_income  1000 non-null   float64\n",
      " 2   insurance_type           1000 non-null   object \n",
      " 3   age                      1000 non-null   int64  \n",
      " 4   gender                   1000 non-null   object \n",
      " 5   readmitted               1000 non-null   int64  \n",
      " 6   diagnoses                1000 non-null   object \n",
      "dtypes: float64(1), int64(3), object(3)\n",
      "memory usage: 54.8+ KB\n"
     ]
    }
   ],
   "source": [
    "rad_df = rad_df[[\"length_of_stay\", \"median_household_income\", \"insurance_type\", \"age\", \"gender\", \"readmitted\", \"diagnoses\"]]\n",
    "rad_df.info()"
   ]
  },
  {
   "cell_type": "code",
   "execution_count": 28,
   "id": "2acaaa4e-94c3-4ea0-bffe-3f88b9ee820b",
   "metadata": {},
   "outputs": [
    {
     "name": "stdout",
     "output_type": "stream",
     "text": [
      "0      0\n",
      "1      0\n",
      "2      0\n",
      "3      0\n",
      "4      0\n",
      "      ..\n",
      "995    0\n",
      "996    0\n",
      "997    0\n",
      "998    1\n",
      "999    0\n",
      "Name: readmitted, Length: 1000, dtype: int64\n"
     ]
    }
   ],
   "source": [
    "print(rad_df[\"readmitted\"])"
   ]
  },
  {
   "cell_type": "code",
   "execution_count": 32,
   "id": "6f0d9110-749b-4725-afbe-c0f3c34259de",
   "metadata": {},
   "outputs": [
    {
     "name": "stdout",
     "output_type": "stream",
     "text": [
      "['No' 'Yes']\n"
     ]
    }
   ],
   "source": [
    "bool_map = {1: \"Yes\", 0: \"No\"}\n",
    "rad_df[\"readmitted\"] = rad_df[\"readmitted\"].map(bool_map)\n",
    "\n",
    "print(rad_df[\"readmitted\"].unique())"
   ]
  },
  {
   "cell_type": "code",
   "execution_count": 34,
   "id": "18fb857c-6d74-4f77-91db-4fd761790e5b",
   "metadata": {},
   "outputs": [
    {
     "name": "stdout",
     "output_type": "stream",
     "text": [
      "0       No\n",
      "1       No\n",
      "2       No\n",
      "3       No\n",
      "4       No\n",
      "      ... \n",
      "995     No\n",
      "996     No\n",
      "997     No\n",
      "998    Yes\n",
      "999     No\n",
      "Name: readmitted, Length: 1000, dtype: object\n"
     ]
    }
   ],
   "source": [
    "print(rad_df[\"readmitted\"])"
   ]
  },
  {
   "cell_type": "code",
   "execution_count": 36,
   "id": "edfc1b57-02fb-49bb-9d14-54e60c93e912",
   "metadata": {},
   "outputs": [],
   "source": [
    "rad_df[\"Source\"] = \"RaD\""
   ]
  },
  {
   "cell_type": "code",
   "execution_count": 44,
   "id": "b27c9f99-622d-4107-a2fd-99c43abbb5df",
   "metadata": {},
   "outputs": [],
   "source": [
    "comb_df = pd.concat([wgu_df, rad_df], axis = 1)"
   ]
  },
  {
   "cell_type": "code",
   "execution_count": 46,
   "id": "d35d695f-5a6c-42ad-9dc9-5f2805a31db4",
   "metadata": {},
   "outputs": [],
   "source": [
    "comb_df.to_csv('comb_df_d210.csv', index = False)"
   ]
  },
  {
   "cell_type": "code",
   "execution_count": null,
   "id": "44fccdec-3883-46ef-ac8a-bf678ea14d93",
   "metadata": {},
   "outputs": [],
   "source": []
  }
 ],
 "metadata": {
  "kernelspec": {
   "display_name": "Python 3 (ipykernel)",
   "language": "python",
   "name": "python3"
  },
  "language_info": {
   "codemirror_mode": {
    "name": "ipython",
    "version": 3
   },
   "file_extension": ".py",
   "mimetype": "text/x-python",
   "name": "python",
   "nbconvert_exporter": "python",
   "pygments_lexer": "ipython3",
   "version": "3.12.4"
  }
 },
 "nbformat": 4,
 "nbformat_minor": 5
}

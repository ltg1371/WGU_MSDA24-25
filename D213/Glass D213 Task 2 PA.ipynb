{
 "cells": [
  {
   "cell_type": "code",
   "execution_count": 1,
   "id": "88696646-8eab-4ad1-8c11-a0dcbc9f4b10",
   "metadata": {},
   "outputs": [
    {
     "name": "stdout",
     "output_type": "stream",
     "text": [
      "<class 'pandas.core.frame.DataFrame'>\n",
      "RangeIndex: 1000 entries, 0 to 999\n",
      "Data columns (total 2 columns):\n",
      " #   Column     Non-Null Count  Dtype \n",
      "---  ------     --------------  ----- \n",
      " 0   reviews    1000 non-null   object\n",
      " 1   sentiment  1000 non-null   int64 \n",
      "dtypes: int64(1), object(1)\n",
      "memory usage: 15.8+ KB\n"
     ]
    }
   ],
   "source": [
    "#import pandas to read and handle data\n",
    "#get general info for our data\n",
    "\n",
    "import pandas as pd\n",
    "\n",
    "filename = 'yelp_labelled.txt'\n",
    "yelp = pd.read_csv(filename, delimiter = '\\t', header = None, names=['reviews', 'sentiment'])\n",
    "yelp.info()"
   ]
  },
  {
   "cell_type": "code",
   "execution_count": 2,
   "id": "1fb9f266-2775-43bd-a1fe-eb07be38fb06",
   "metadata": {},
   "outputs": [
    {
     "name": "stdout",
     "output_type": "stream",
     "text": [
      "(1000, 2)\n"
     ]
    },
    {
     "data": {
      "text/html": [
       "<div>\n",
       "<style scoped>\n",
       "    .dataframe tbody tr th:only-of-type {\n",
       "        vertical-align: middle;\n",
       "    }\n",
       "\n",
       "    .dataframe tbody tr th {\n",
       "        vertical-align: top;\n",
       "    }\n",
       "\n",
       "    .dataframe thead th {\n",
       "        text-align: right;\n",
       "    }\n",
       "</style>\n",
       "<table border=\"1\" class=\"dataframe\">\n",
       "  <thead>\n",
       "    <tr style=\"text-align: right;\">\n",
       "      <th></th>\n",
       "      <th>reviews</th>\n",
       "      <th>sentiment</th>\n",
       "    </tr>\n",
       "  </thead>\n",
       "  <tbody>\n",
       "    <tr>\n",
       "      <th>0</th>\n",
       "      <td>Wow... Loved this place.</td>\n",
       "      <td>1</td>\n",
       "    </tr>\n",
       "    <tr>\n",
       "      <th>1</th>\n",
       "      <td>Crust is not good.</td>\n",
       "      <td>0</td>\n",
       "    </tr>\n",
       "    <tr>\n",
       "      <th>2</th>\n",
       "      <td>Not tasty and the texture was just nasty.</td>\n",
       "      <td>0</td>\n",
       "    </tr>\n",
       "    <tr>\n",
       "      <th>3</th>\n",
       "      <td>Stopped by during the late May bank holiday of...</td>\n",
       "      <td>1</td>\n",
       "    </tr>\n",
       "    <tr>\n",
       "      <th>4</th>\n",
       "      <td>The selection on the menu was great and so wer...</td>\n",
       "      <td>1</td>\n",
       "    </tr>\n",
       "  </tbody>\n",
       "</table>\n",
       "</div>"
      ],
      "text/plain": [
       "                                             reviews  sentiment\n",
       "0                           Wow... Loved this place.          1\n",
       "1                                 Crust is not good.          0\n",
       "2          Not tasty and the texture was just nasty.          0\n",
       "3  Stopped by during the late May bank holiday of...          1\n",
       "4  The selection on the menu was great and so wer...          1"
      ]
     },
     "execution_count": 2,
     "metadata": {},
     "output_type": "execute_result"
    }
   ],
   "source": [
    "#look at shape and first few rows of data\n",
    "\n",
    "print(yelp.shape)\n",
    "yelp.head()"
   ]
  },
  {
   "cell_type": "code",
   "execution_count": 3,
   "id": "f609b0a5-50aa-4a6c-9e15-f0126b193090",
   "metadata": {},
   "outputs": [
    {
     "data": {
      "text/plain": [
       "<Axes: xlabel='sentiment', ylabel='count'>"
      ]
     },
     "execution_count": 3,
     "metadata": {},
     "output_type": "execute_result"
    },
    {
     "data": {
      "image/png": "[encoded data removed]",
      "text/plain": [
       "<Figure size 640x480 with 1 Axes>"
      ]
     },
     "metadata": {},
     "output_type": "display_data"
    }
   ],
   "source": [
    "#import seaborn for visualization purposes\n",
    "#create count plot of number of positive/negative sentiments\n",
    "\n",
    "import seaborn as sb\n",
    "sb.countplot(x = 'sentiment', data = yelp)"
   ]
  },
  {
   "cell_type": "code",
   "execution_count": 4,
   "id": "180c2588-aa9c-415d-9595-e5bc19b61297",
   "metadata": {},
   "outputs": [
    {
     "data": {
      "text/plain": [
       "reviews      0\n",
       "sentiment    0\n",
       "dtype: int64"
      ]
     },
     "execution_count": 4,
     "metadata": {},
     "output_type": "execute_result"
    }
   ],
   "source": [
    "#check for missing values (none found)\n",
    "\n",
    "yelp.isna().sum()"
   ]
  },
  {
   "cell_type": "code",
   "execution_count": 5,
   "id": "58af86b2-5a2f-42e7-b4ce-401259d32144",
   "metadata": {},
   "outputs": [
    {
     "name": "stdout",
     "output_type": "stream",
     "text": [
      "['W', 'o', 'w', '.', ' ', 'L', 'v', 'e', 'd', 't', 'h', 'i', 's', 'p', 'l', 'a', 'c', 'C', 'r', 'u', 'n', 'g', 'N', 'y', 'x', 'j', 'S', 'b', 'M', 'k', 'f', 'R', 'm', 'T', 'I', 'H', \"'\", 'A', ')', ',', '!', 'V', 'B', 'z', '-', '4', 'O', '2', '3', 'q', 'P', 'F', 'G', '5', '1', '0', 'E', 'Z', 'D', 'U', 'J', 'Y', 'K', '&', 'é', ':', ';', '9', '7', '(', 'X', '\"', '/', '8', 'Q', '$', '%', '+', '*', '?', '6', 'ê']\n"
     ]
    }
   ],
   "source": [
    "#initialize an empty list to store unique characters found in reviews column\n",
    "#iterate through each review and character\n",
    "#if unique,, adds it to the list\n",
    "#print final list of characters\n",
    "\n",
    "reviews = yelp['reviews']\n",
    "list_of_characters = []\n",
    "for comment in reviews: \n",
    "    for character in comment:\n",
    "        if character not in list_of_characters:\n",
    "            list_of_characters.append(character)\n",
    "print(list_of_characters)"
   ]
  },
  {
   "cell_type": "code",
   "execution_count": 6,
   "id": "f34141d9-bab9-4e54-8b61-aff5a0cfebbf",
   "metadata": {},
   "outputs": [],
   "source": [
    "#import re for text cleaning purposes and nltk for NLP tasks\n",
    "#load set of common stopwords to remove\n",
    "#initialize lemmatizer to reduce words to root form\n",
    "#create empty list to store the cleaned reviews\n",
    "#convert to lowercase and split into individual tokens\n",
    "\n",
    "import re\n",
    "import nltk\n",
    "from nltk.corpus import stopwords\n",
    "from nltk.stem import WordNetLemmatizer\n",
    "\n",
    "stop_words = set(stopwords.words('english'))\n",
    "lemmatizer = WordNetLemmatizer()\n",
    "\n",
    "description_list = []\n",
    "\n",
    "for description in yelp.reviews:\n",
    "    description = re.sub(\"[^a-zA-Z]\", \" \", description)\n",
    "    description = description.lower()\n",
    "    tokens = nltk.word_tokenize(description)\n",
    "    tokens = [lemmatizer.lemmatize(word) for word in tokens]\n",
    "    tokens = [word for word in tokens if word not in stop_words]\n",
    "    cleaned = \" \".join(tokens)\n",
    "    description_list.append(cleaned)\n",
    "\n",
    "yelp['cleaned_reviews'] = description_list"
   ]
  },
  {
   "cell_type": "code",
   "execution_count": 7,
   "id": "5b177f99-97a5-4463-8301-e2c286b34bb1",
   "metadata": {},
   "outputs": [
    {
     "name": "stdout",
     "output_type": "stream",
     "text": [
      "{'does', 'have', 'its', 'don', 'while', 'at', 'after', \"she's\", 'those', 'your', 'under', \"she'd\", \"it'll\", \"weren't\", \"you'll\", \"aren't\", \"wouldn't\", 'them', 'hers', \"they've\", \"shan't\", 'if', 'of', \"haven't\", 'than', 'being', \"they're\", 'during', 'below', 'were', 'will', 'out', 'am', 'doesn', 'myself', 'into', 'aren', 'himself', 'these', 'i', 'm', \"we're\", \"that'll\", 'wouldn', 'few', \"hadn't\", 'again', 'y', 'for', 'mightn', 'but', 'having', 'before', 'by', 'needn', 's', 'which', 'once', 'same', 'with', 'was', 'against', 'and', 'did', 'no', 'own', 'an', 't', 'yourself', 'yours', 'this', 'my', \"couldn't\", 'herself', \"he's\", 'itself', 'down', 'her', 'a', 'that', 'what', 'she', 'should', 'or', 'any', 'has', \"we've\", \"won't\", 'their', \"it'd\", 'had', 'about', 'more', 'such', 'do', 'him', 'until', 'when', 'shouldn', 'there', 'ours', 'o', 'so', 'the', 'some', 'weren', \"you'd\", 'too', \"shouldn't\", 'll', 'ma', \"isn't\", \"she'll\", 'above', 'just', 'most', 'is', \"we'll\", 'not', 'other', \"he'd\", 'yourselves', 'between', 'd', 'shan', 'in', 'didn', \"should've\", 'hadn', 'then', \"i've\", 'isn', \"mightn't\", \"you're\", 'hasn', 'been', \"he'll\", 'because', 'doing', 'all', 'theirs', \"they'll\", 'ain', 'haven', 'he', 'now', 'they', 'themselves', 'can', 'to', 'nor', 'on', \"i'll\", 'his', 'our', 'further', 'whom', 'be', 'as', 'couldn', 'who', 'off', \"needn't\", 'me', 'up', 'it', \"i'm\", 'very', 'from', 'why', 'wasn', \"wasn't\", 've', 'we', \"mustn't\", 're', \"doesn't\", 'how', \"it's\", \"didn't\", \"i'd\", 'each', 'here', \"they'd\", 'mustn', 'only', 'both', \"you've\", 'are', 'over', 'where', 'through', 'ourselves', \"we'd\", 'won', 'you', \"don't\", \"hasn't\"}\n"
     ]
    }
   ],
   "source": [
    "#print the common stopwords that were removed\n",
    "\n",
    "print(stop_words)"
   ]
  },
  {
   "cell_type": "code",
   "execution_count": 8,
   "id": "ff2025a9-64e4-43b5-9e0d-7b29379ab272",
   "metadata": {},
   "outputs": [
    {
     "name": "stdout",
     "output_type": "stream",
     "text": [
      "Vocabulary size:  1769\n"
     ]
    }
   ],
   "source": [
    "#import tokenizer to vectorize text to integer sequences\n",
    "#initialize tokenizer and fit on cleaned reviews to build word index\n",
    "#calculate total number of unique words (+1 to account for padding index)\n",
    "#print vocabulary size\n",
    "\n",
    "from tensorflow.keras.preprocessing.text import Tokenizer\n",
    "\n",
    "tokenizer = Tokenizer()\n",
    "tokenizer.fit_on_texts(yelp['cleaned_reviews'])\n",
    "vocabulary_size = len(tokenizer.word_index) + 1\n",
    "print(\"Vocabulary size: \", vocabulary_size)"
   ]
  },
  {
   "cell_type": "code",
   "execution_count": 9,
   "id": "25d5f131-7096-4a41-bd85-fd8da5e920c8",
   "metadata": {},
   "outputs": [
    {
     "name": "stdout",
     "output_type": "stream",
     "text": [
      "Max length of sequences:  19\n",
      "Median length of sequences:  5.0\n",
      "Min length of sequences:  1\n"
     ]
    }
   ],
   "source": [
    "#import numpy for numerical operations\n",
    "#initialize empty list to store review lengths\n",
    "#find min, max, and median review lengths and print these values\n",
    "\n",
    "import numpy as np\n",
    "\n",
    "review_length = []\n",
    "for review in yelp['cleaned_reviews']:\n",
    "    review_length.append(len(review.split(\" \")))\n",
    "\n",
    "review_max = np.max(review_length)\n",
    "review_min = np.min(review_length)\n",
    "review_median = np.median(review_length)\n",
    "print(\"Max length of sequences: \", review_max)\n",
    "print(\"Median length of sequences: \", review_median)\n",
    "print(\"Min length of sequences: \", review_min)"
   ]
  },
  {
   "cell_type": "code",
   "execution_count": 45,
   "id": "afe15dff-5f76-4de5-8867-1c6f21ea7a5f",
   "metadata": {},
   "outputs": [
    {
     "name": "stdout",
     "output_type": "stream",
     "text": [
      "Max review length: 19\n",
      "95th percentile: 12.0\n"
     ]
    }
   ],
   "source": [
    "#convert ecah review to integer sequence and store\n",
    "#calculate 95th percentile review length and print this value\n",
    "\n",
    "review_lengths = [len(seq) for seq in tokenizer.texts_to_sequences(description_list)]\n",
    "print(\"Max review length:\", max(review_lengths))\n",
    "print(\"95th percentile:\", np.percentile(review_lengths, 95))"
   ]
  },
  {
   "cell_type": "code",
   "execution_count": 10,
   "id": "145cde35-1403-4bf3-9f95-ada9529e8323",
   "metadata": {},
   "outputs": [
    {
     "name": "stdout",
     "output_type": "stream",
     "text": [
      "Training size:  (800, 12)\n",
      "Testing size:  (200, 12)\n"
     ]
    }
   ],
   "source": [
    "#import pad_sequences to pad sequences to fixed length\n",
    "#convert reviews into integer sequences using word index mapping\n",
    "#define max length based on calculated 95th percentile above\n",
    "#pad sequences to length 12\n",
    "#extract target variable and split data (80/20)\n",
    "\n",
    "from tensorflow.keras.preprocessing.sequence import pad_sequences\n",
    "from sklearn.model_selection import train_test_split\n",
    "\n",
    "X = tokenizer.texts_to_sequences(yelp['cleaned_reviews'])\n",
    "max_length = 12\n",
    "X = pad_sequences(X, maxlen=max_length)\n",
    "y = yelp.sentiment.values\n",
    "\n",
    "X_train, X_test, y_train, y_test = train_test_split(X, y, test_size=0.2, random_state=42, stratify=y)\n",
    "\n",
    "y_train = pd.Series(y_train)\n",
    "y_test = pd.Series(y_test)\n",
    "\n",
    "print(\"Training size: \", X_train.shape)\n",
    "print(\"Testing size: \", X_test.shape)"
   ]
  },
  {
   "cell_type": "code",
   "execution_count": 11,
   "id": "887fea76-4e00-40a8-9f69-cd79386e19ad",
   "metadata": {},
   "outputs": [
    {
     "name": "stdout",
     "output_type": "stream",
     "text": [
      "First padded review:\n",
      "[   0    0    0    0    0  107 1396  175   67   25 1397  124]\n"
     ]
    }
   ],
   "source": [
    "#print first padded review from training data to verify padding was applied correctly\n",
    "#review has 5 padded 0s and 7 integers - length of 12 so we're good to go\n",
    "\n",
    "print(\"First padded review:\")\n",
    "print(X_train[0])"
   ]
  },
  {
   "cell_type": "code",
   "execution_count": 12,
   "id": "b71d4612-537f-40ac-a28e-adfe373c51e6",
   "metadata": {},
   "outputs": [],
   "source": [
    "#convert training and testing sets to numpy arrays\n",
    "#ensures compatibility with model requirements\n",
    "\n",
    "train_pad = np.array(X_train)\n",
    "train_label = np.array(y_train)\n",
    "\n",
    "test_pad = np.array(X_test)\n",
    "test_label = np.array(y_test)"
   ]
  },
  {
   "cell_type": "code",
   "execution_count": 13,
   "id": "60b183bd-10a5-49b3-9962-ee311ac36917",
   "metadata": {},
   "outputs": [
    {
     "name": "stdout",
     "output_type": "stream",
     "text": [
      "Train features shape:  (800, 12)\n",
      "Train labels shape:  (800,)\n",
      "Test features shape:  (200, 12)\n",
      "Test labels shape:  (200,)\n"
     ]
    }
   ],
   "source": [
    "#print shape of training and testing sets\n",
    "\n",
    "print(\"Train features shape: \", train_pad.shape)\n",
    "print(\"Train labels shape: \", train_label.shape)\n",
    "print(\"Test features shape: \", test_pad.shape)\n",
    "print(\"Test labels shape: \", test_label.shape)"
   ]
  },
  {
   "cell_type": "code",
   "execution_count": 14,
   "id": "a6cd41c3-fd17-4151-ad84-550e4c9069de",
   "metadata": {},
   "outputs": [],
   "source": [
    "#export each set to its own csv file for submission\n",
    "#same with the cleaned dataframe\n",
    "\n",
    "pd.DataFrame(train_pad).to_csv(\"d213_t2_ytr.csv\")\n",
    "pd.DataFrame(train_label).to_csv(\"d213_t2_ytrl.csv\")\n",
    "pd.DataFrame(test_pad).to_csv(\"d213_t2_yts.csv\")\n",
    "pd.DataFrame(test_label).to_csv(\"d213_t2_ytsl.csv\")\n",
    "\n",
    "pd.DataFrame(yelp).to_csv(\"d213_t2_yclean.csv\")"
   ]
  },
  {
   "cell_type": "code",
   "execution_count": 15,
   "id": "2a72e8bc-0cac-471d-8322-7bd1f7b7781d",
   "metadata": {},
   "outputs": [],
   "source": [
    "#reshape training and testing sets to (n,1) for model compatibility (expects 2D input for y)\n",
    "\n",
    "train_label = train_label.reshape(-1, 1)\n",
    "test_label = test_label.reshape(-1, 1)"
   ]
  },
  {
   "cell_type": "code",
   "execution_count": 16,
   "id": "fe1e6199-903e-4fae-bdec-d0eb2c9bca53",
   "metadata": {},
   "outputs": [
    {
     "name": "stdout",
     "output_type": "stream",
     "text": [
      "Epoch 1/30\n"
     ]
    },
    {
     "name": "stderr",
     "output_type": "stream",
     "text": [
      "/Applications/anaconda3/lib/python3.12/site-packages/keras/src/layers/core/embedding.py:90: UserWarning: Argument `input_length` is deprecated. Just remove it.\n",
      "  warnings.warn(\n"
     ]
    },
    {
     "name": "stdout",
     "output_type": "stream",
     "text": [
      "\u001b[1m18/18\u001b[0m \u001b[32m━━━━━━━━━━━━━━━━━━━━\u001b[0m\u001b[37m\u001b[0m \u001b[1m1s\u001b[0m 15ms/step - accuracy: 0.5251 - loss: 0.6934 - val_accuracy: 0.5000 - val_loss: 0.6927\n",
      "Epoch 2/30\n",
      "\u001b[1m18/18\u001b[0m \u001b[32m━━━━━━━━━━━━━━━━━━━━\u001b[0m\u001b[37m\u001b[0m \u001b[1m0s\u001b[0m 9ms/step - accuracy: 0.5302 - loss: 0.6932 - val_accuracy: 0.5458 - val_loss: 0.6898\n",
      "Epoch 3/30\n",
      "\u001b[1m18/18\u001b[0m \u001b[32m━━━━━━━━━━━━━━━━━━━━\u001b[0m\u001b[37m\u001b[0m \u001b[1m0s\u001b[0m 9ms/step - accuracy: 0.6634 - loss: 0.6818 - val_accuracy: 0.6375 - val_loss: 0.6673\n",
      "Epoch 4/30\n",
      "\u001b[1m18/18\u001b[0m \u001b[32m━━━━━━━━━━━━━━━━━━━━\u001b[0m\u001b[37m\u001b[0m \u001b[1m0s\u001b[0m 9ms/step - accuracy: 0.7897 - loss: 0.5893 - val_accuracy: 0.7292 - val_loss: 0.5293\n",
      "Epoch 5/30\n",
      "\u001b[1m18/18\u001b[0m \u001b[32m━━━━━━━━━━━━━━━━━━━━\u001b[0m\u001b[37m\u001b[0m \u001b[1m0s\u001b[0m 9ms/step - accuracy: 0.8836 - loss: 0.2855 - val_accuracy: 0.7542 - val_loss: 0.5177\n",
      "Epoch 6/30\n",
      "\u001b[1m18/18\u001b[0m \u001b[32m━━━━━━━━━━━━━━━━━━━━\u001b[0m\u001b[37m\u001b[0m \u001b[1m0s\u001b[0m 10ms/step - accuracy: 0.9389 - loss: 0.1760 - val_accuracy: 0.7583 - val_loss: 0.5541\n",
      "Epoch 7/30\n",
      "\u001b[1m18/18\u001b[0m \u001b[32m━━━━━━━━━━━━━━━━━━━━\u001b[0m\u001b[37m\u001b[0m \u001b[1m0s\u001b[0m 11ms/step - accuracy: 0.9602 - loss: 0.0872 - val_accuracy: 0.7667 - val_loss: 0.6659\n",
      "Epoch 8/30\n",
      "\u001b[1m18/18\u001b[0m \u001b[32m━━━━━━━━━━━━━━━━━━━━\u001b[0m\u001b[37m\u001b[0m \u001b[1m0s\u001b[0m 10ms/step - accuracy: 0.9892 - loss: 0.0352 - val_accuracy: 0.7625 - val_loss: 0.8198\n",
      "Epoch 9/30\n",
      "\u001b[1m18/18\u001b[0m \u001b[32m━━━━━━━━━━━━━━━━━━━━\u001b[0m\u001b[37m\u001b[0m \u001b[1m0s\u001b[0m 10ms/step - accuracy: 0.9744 - loss: 0.0715 - val_accuracy: 0.7625 - val_loss: 0.7495\n"
     ]
    }
   ],
   "source": [
    "#import tensorflow modules for model building\n",
    "#define hyperparameters\n",
    "#build the model with each layer (embedding, LSTM, dense)\n",
    "#compile model and track accuracy as performance metric\n",
    "#train model using 70% training data and 30% for validation\n",
    "\n",
    "import tensorflow as tf\n",
    "from tensorflow.keras.callbacks import EarlyStopping\n",
    "from tensorflow.keras.layers import LSTM, Embedding, Dense\n",
    "from tensorflow.keras.models import Sequential\n",
    "\n",
    "activation = 'sigmoid'\n",
    "loss = 'binary_crossentropy'\n",
    "optimizer = 'adam'\n",
    "num_epochs = 30\n",
    "\n",
    "early_stopping_mon = EarlyStopping(patience=4)\n",
    "\n",
    "model = tf.keras.Sequential([\n",
    "    tf.keras.layers.Embedding(input_dim=vocabulary_size, output_dim=64, input_length=(max_length,)),\n",
    "    tf.keras.layers.LSTM(128, dropout=0.4, recurrent_dropout=0.4),\n",
    "    tf.keras.layers.Dense(100, activation='relu'),\n",
    "    tf.keras.layers.Dense(50, activation='relu'),\n",
    "    tf.keras.layers.Dense(1, activation=activation)\n",
    "])\n",
    "\n",
    "model.compile(loss=loss, optimizer=optimizer, metrics=['accuracy'])\n",
    "history = model.fit(train_pad, train_label, batch_size=32, epochs=num_epochs, validation_split=0.3, callbacks=[early_stopping_mon], verbose=True)"
   ]
  },
  {
   "cell_type": "code",
   "execution_count": 17,
   "id": "a254a46d-b87a-48eb-9389-b40184466f44",
   "metadata": {},
   "outputs": [
    {
     "data": {
      "text/html": [
       "<pre style=\"white-space:pre;overflow-x:auto;line-height:normal;font-family:Menlo,'DejaVu Sans Mono',consolas,'Courier New',monospace\"><span style=\"font-weight: bold\">Model: \"sequential\"</span>\n",
       "</pre>\n"
      ],
      "text/plain": [
       "\u001b[1mModel: \"sequential\"\u001b[0m\n"
      ]
     },
     "metadata": {},
     "output_type": "display_data"
    },
    {
     "data": {
      "text/html": [
       "<pre style=\"white-space:pre;overflow-x:auto;line-height:normal;font-family:Menlo,'DejaVu Sans Mono',consolas,'Courier New',monospace\">┏━━━━━━━━━━━━━━━━━━━━━━━━━━━━━━━━━┳━━━━━━━━━━━━━━━━━━━━━━━━┳━━━━━━━━━━━━━━━┓\n",
       "┃<span style=\"font-weight: bold\"> Layer (type)                    </span>┃<span style=\"font-weight: bold\"> Output Shape           </span>┃<span style=\"font-weight: bold\">       Param # </span>┃\n",
       "┡━━━━━━━━━━━━━━━━━━━━━━━━━━━━━━━━━╇━━━━━━━━━━━━━━━━━━━━━━━━╇━━━━━━━━━━━━━━━┩\n",
       "│ embedding (<span style=\"color: #0087ff; text-decoration-color: #0087ff\">Embedding</span>)           │ (<span style=\"color: #00d7ff; text-decoration-color: #00d7ff\">None</span>, <span style=\"color: #00af00; text-decoration-color: #00af00\">12</span>, <span style=\"color: #00af00; text-decoration-color: #00af00\">64</span>)         │       <span style=\"color: #00af00; text-decoration-color: #00af00\">113,216</span> │\n",
       "├─────────────────────────────────┼────────────────────────┼───────────────┤\n",
       "│ lstm (<span style=\"color: #0087ff; text-decoration-color: #0087ff\">LSTM</span>)                     │ (<span style=\"color: #00d7ff; text-decoration-color: #00d7ff\">None</span>, <span style=\"color: #00af00; text-decoration-color: #00af00\">128</span>)            │        <span style=\"color: #00af00; text-decoration-color: #00af00\">98,816</span> │\n",
       "├─────────────────────────────────┼────────────────────────┼───────────────┤\n",
       "│ dense (<span style=\"color: #0087ff; text-decoration-color: #0087ff\">Dense</span>)                   │ (<span style=\"color: #00d7ff; text-decoration-color: #00d7ff\">None</span>, <span style=\"color: #00af00; text-decoration-color: #00af00\">100</span>)            │        <span style=\"color: #00af00; text-decoration-color: #00af00\">12,900</span> │\n",
       "├─────────────────────────────────┼────────────────────────┼───────────────┤\n",
       "│ dense_1 (<span style=\"color: #0087ff; text-decoration-color: #0087ff\">Dense</span>)                 │ (<span style=\"color: #00d7ff; text-decoration-color: #00d7ff\">None</span>, <span style=\"color: #00af00; text-decoration-color: #00af00\">50</span>)             │         <span style=\"color: #00af00; text-decoration-color: #00af00\">5,050</span> │\n",
       "├─────────────────────────────────┼────────────────────────┼───────────────┤\n",
       "│ dense_2 (<span style=\"color: #0087ff; text-decoration-color: #0087ff\">Dense</span>)                 │ (<span style=\"color: #00d7ff; text-decoration-color: #00d7ff\">None</span>, <span style=\"color: #00af00; text-decoration-color: #00af00\">1</span>)              │            <span style=\"color: #00af00; text-decoration-color: #00af00\">51</span> │\n",
       "└─────────────────────────────────┴────────────────────────┴───────────────┘\n",
       "</pre>\n"
      ],
      "text/plain": [
       "┏━━━━━━━━━━━━━━━━━━━━━━━━━━━━━━━━━┳━━━━━━━━━━━━━━━━━━━━━━━━┳━━━━━━━━━━━━━━━┓\n",
       "┃\u001b[1m \u001b[0m\u001b[1mLayer (type)                   \u001b[0m\u001b[1m \u001b[0m┃\u001b[1m \u001b[0m\u001b[1mOutput Shape          \u001b[0m\u001b[1m \u001b[0m┃\u001b[1m \u001b[0m\u001b[1m      Param #\u001b[0m\u001b[1m \u001b[0m┃\n",
       "┡━━━━━━━━━━━━━━━━━━━━━━━━━━━━━━━━━╇━━━━━━━━━━━━━━━━━━━━━━━━╇━━━━━━━━━━━━━━━┩\n",
       "│ embedding (\u001b[38;5;33mEmbedding\u001b[0m)           │ (\u001b[38;5;45mNone\u001b[0m, \u001b[38;5;34m12\u001b[0m, \u001b[38;5;34m64\u001b[0m)         │       \u001b[38;5;34m113,216\u001b[0m │\n",
       "├─────────────────────────────────┼────────────────────────┼───────────────┤\n",
       "│ lstm (\u001b[38;5;33mLSTM\u001b[0m)                     │ (\u001b[38;5;45mNone\u001b[0m, \u001b[38;5;34m128\u001b[0m)            │        \u001b[38;5;34m98,816\u001b[0m │\n",
       "├─────────────────────────────────┼────────────────────────┼───────────────┤\n",
       "│ dense (\u001b[38;5;33mDense\u001b[0m)                   │ (\u001b[38;5;45mNone\u001b[0m, \u001b[38;5;34m100\u001b[0m)            │        \u001b[38;5;34m12,900\u001b[0m │\n",
       "├─────────────────────────────────┼────────────────────────┼───────────────┤\n",
       "│ dense_1 (\u001b[38;5;33mDense\u001b[0m)                 │ (\u001b[38;5;45mNone\u001b[0m, \u001b[38;5;34m50\u001b[0m)             │         \u001b[38;5;34m5,050\u001b[0m │\n",
       "├─────────────────────────────────┼────────────────────────┼───────────────┤\n",
       "│ dense_2 (\u001b[38;5;33mDense\u001b[0m)                 │ (\u001b[38;5;45mNone\u001b[0m, \u001b[38;5;34m1\u001b[0m)              │            \u001b[38;5;34m51\u001b[0m │\n",
       "└─────────────────────────────────┴────────────────────────┴───────────────┘\n"
      ]
     },
     "metadata": {},
     "output_type": "display_data"
    },
    {
     "data": {
      "text/html": [
       "<pre style=\"white-space:pre;overflow-x:auto;line-height:normal;font-family:Menlo,'DejaVu Sans Mono',consolas,'Courier New',monospace\"><span style=\"font-weight: bold\"> Total params: </span><span style=\"color: #00af00; text-decoration-color: #00af00\">690,101</span> (2.63 MB)\n",
       "</pre>\n"
      ],
      "text/plain": [
       "\u001b[1m Total params: \u001b[0m\u001b[38;5;34m690,101\u001b[0m (2.63 MB)\n"
      ]
     },
     "metadata": {},
     "output_type": "display_data"
    },
    {
     "data": {
      "text/html": [
       "<pre style=\"white-space:pre;overflow-x:auto;line-height:normal;font-family:Menlo,'DejaVu Sans Mono',consolas,'Courier New',monospace\"><span style=\"font-weight: bold\"> Trainable params: </span><span style=\"color: #00af00; text-decoration-color: #00af00\">230,033</span> (898.57 KB)\n",
       "</pre>\n"
      ],
      "text/plain": [
       "\u001b[1m Trainable params: \u001b[0m\u001b[38;5;34m230,033\u001b[0m (898.57 KB)\n"
      ]
     },
     "metadata": {},
     "output_type": "display_data"
    },
    {
     "data": {
      "text/html": [
       "<pre style=\"white-space:pre;overflow-x:auto;line-height:normal;font-family:Menlo,'DejaVu Sans Mono',consolas,'Courier New',monospace\"><span style=\"font-weight: bold\"> Non-trainable params: </span><span style=\"color: #00af00; text-decoration-color: #00af00\">0</span> (0.00 B)\n",
       "</pre>\n"
      ],
      "text/plain": [
       "\u001b[1m Non-trainable params: \u001b[0m\u001b[38;5;34m0\u001b[0m (0.00 B)\n"
      ]
     },
     "metadata": {},
     "output_type": "display_data"
    },
    {
     "data": {
      "text/html": [
       "<pre style=\"white-space:pre;overflow-x:auto;line-height:normal;font-family:Menlo,'DejaVu Sans Mono',consolas,'Courier New',monospace\"><span style=\"font-weight: bold\"> Optimizer params: </span><span style=\"color: #00af00; text-decoration-color: #00af00\">460,068</span> (1.76 MB)\n",
       "</pre>\n"
      ],
      "text/plain": [
       "\u001b[1m Optimizer params: \u001b[0m\u001b[38;5;34m460,068\u001b[0m (1.76 MB)\n"
      ]
     },
     "metadata": {},
     "output_type": "display_data"
    }
   ],
   "source": [
    "#print a summary of the model\n",
    "\n",
    "model.summary()"
   ]
  },
  {
   "cell_type": "code",
   "execution_count": 19,
   "id": "2353cadd-44f7-4300-856a-b31e0257673b",
   "metadata": {},
   "outputs": [
    {
     "data": {
      "image/png": "[encoded data removed]",
      "text/plain": [
       "<Figure size 640x480 with 1 Axes>"
      ]
     },
     "metadata": {},
     "output_type": "display_data"
    },
    {
     "data": {
      "image/png": "[encoded data removed]",
      "text/plain": [
       "<Figure size 640x480 with 1 Axes>"
      ]
     },
     "metadata": {},
     "output_type": "display_data"
    }
   ],
   "source": [
    "#import matplotlib for visualization purposes\n",
    "#create two graphs - one for model accuracy and one for loss\n",
    "#compare these between the training and validation sets\n",
    "\n",
    "import matplotlib.pyplot as plt\n",
    "\n",
    "plt.plot(history.history['accuracy'])\n",
    "plt.plot(history.history['val_accuracy'])\n",
    "plt.title('Model accuracy')\n",
    "plt.ylabel('Accuracy')\n",
    "plt.xlabel('Epoch')\n",
    "plt.legend(['Train', 'Validation'], loc='upper left')\n",
    "plt.show()\n",
    "\n",
    "plt.plot(history.history['loss'])\n",
    "plt.plot(history.history['val_loss'])\n",
    "plt.title('Model loss')\n",
    "plt.ylabel('Loss')\n",
    "plt.xlabel('Epoch')\n",
    "plt.legend(['Train', 'Validation'], loc='upper left')\n",
    "plt.show()"
   ]
  },
  {
   "cell_type": "code",
   "execution_count": 20,
   "id": "32e02257-3d57-4f28-a0bb-f7063d5e037a",
   "metadata": {},
   "outputs": [
    {
     "name": "stdout",
     "output_type": "stream",
     "text": [
      "\u001b[1m7/7\u001b[0m \u001b[32m━━━━━━━━━━━━━━━━━━━━\u001b[0m\u001b[37m\u001b[0m \u001b[1m0s\u001b[0m 17ms/step\n"
     ]
    },
    {
     "data": {
      "image/png": "[encoded data removed]",
      "text/plain": [
       "<Figure size 600x400 with 1 Axes>"
      ]
     },
     "metadata": {},
     "output_type": "display_data"
    }
   ],
   "source": [
    "#import confusion_matrix for evaluation\n",
    "#print confusion matrix with count labels, color scale, and labels for clarity\n",
    "\n",
    "from sklearn.metrics import confusion_matrix\n",
    "\n",
    "y_pred_prob = model.predict(test_pad)\n",
    "y_pred = (y_pred_prob > 0.5).astype(\"int32\")\n",
    "\n",
    "conf_matrix = confusion_matrix(test_label, y_pred)\n",
    "\n",
    "plt.figure(figsize=(6, 4))\n",
    "sb.heatmap(conf_matrix, annot=True, fmt=\"d\", cmap=\"Blues\", cbar=False,\n",
    "            xticklabels=[\"Predicted: Negative\", \"Predicted: Positive\"],\n",
    "            yticklabels=[\"Actual: Negative\", \"Actual: Positive\"])\n",
    "\n",
    "plt.title(\"Confusion Matrix\")\n",
    "plt.xlabel(\"Predicted Label\")\n",
    "plt.ylabel(\"Actual Label\")\n",
    "plt.tight_layout()\n",
    "plt.show()"
   ]
  },
  {
   "cell_type": "code",
   "execution_count": 21,
   "id": "7d0edcaf-361a-4234-98c3-8b6afea58cbd",
   "metadata": {},
   "outputs": [
    {
     "name": "stderr",
     "output_type": "stream",
     "text": [
      "WARNING:absl:You are saving your model as an HDF5 file via `model.save()` or `keras.saving.save_model(model)`. This file format is considered legacy. We recommend using instead the native Keras format, e.g. `model.save('my_model.keras')` or `keras.saving.save_model(model, 'my_model.keras')`. \n"
     ]
    }
   ],
   "source": [
    "#save model to hdf5 file for future reference\n",
    "\n",
    "model.save('d213_sent_model.h5')"
   ]
  }
 ],
 "metadata": {
  "kernelspec": {
   "display_name": "Python 3 (ipykernel)",
   "language": "python",
   "name": "python3"
  },
  "language_info": {
   "codemirror_mode": {
    "name": "ipython",
    "version": 3
   },
   "file_extension": ".py",
   "mimetype": "text/x-python",
   "name": "python",
   "nbconvert_exporter": "python",
   "pygments_lexer": "ipython3",
   "version": "3.12.4"
  }
 },
 "nbformat": 4,
 "nbformat_minor": 5
}
